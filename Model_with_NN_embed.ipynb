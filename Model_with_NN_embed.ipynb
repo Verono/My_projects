{
 "cells": [
  {
   "cell_type": "markdown",
   "metadata": {
    "cellId": "f9bsqzsebcl5vat0bf3n",
    "execution_id": "0d4a69e8-e9e2-40fc-8e4a-55a5ef77c074"
   },
   "source": [
    "# Финальный проект"
   ]
  },
  {
   "cell_type": "markdown",
   "metadata": {
    "cellId": "4u19y6ou66yi4lhusrnacp",
    "execution_id": "c914f749-0144-4176-a4df-8ca1d3ee783d"
   },
   "source": [
    "Пример пайплайна, который может быть реализован, простыми словами\n",
    "\n",
    "1. Загрузка данных из БД в Jupyter Hub, обзор данных\n",
    "\n",
    "2. Создание признаков и обучающей выборки. Например, могут быть использованы признаки о пользователе, тексты постов и прочие статистики\n",
    "\n",
    "3. Тренировка модели на Jupyter Hub и оценка ее качества на валидационной выборке \n",
    "\n",
    "4. Сохранение модели \n",
    "\n",
    "5. Написание сервиса: загрузка модели -> получение признаков для модели по user_id -> предсказание постов, которые лайкнут -> возвращение ответа. Важно: для того, чтобы чекер отработал, необходимо загрузить и сервис, и модель одновременно.\n",
    "\n",
    "6. Загрузка в LMS в чекер"
   ]
  },
  {
   "cell_type": "markdown",
   "metadata": {
    "cellId": "l7he0ftrtsk8dbokp5sg5h",
    "execution_id": "4e492cc6-666f-4b7a-a16b-5b0361a5b537"
   },
   "source": [
    "### Загрузка данных"
   ]
  },
  {
   "cell_type": "code",
   "execution_count": 1,
   "metadata": {
    "cellId": "lyaxy5j5wofz9duhk089h",
    "execution": {
     "iopub.execute_input": "2022-08-11T10:59:21.640578Z",
     "iopub.status.busy": "2022-08-11T10:59:21.639776Z",
     "iopub.status.idle": "2022-08-11T10:59:37.323323Z",
     "shell.execute_reply": "2022-08-11T10:59:37.322360Z",
     "shell.execute_reply.started": "2022-08-11T10:59:21.640108Z"
    }
   },
   "outputs": [],
   "source": [
    "%pip install psycopg2-binary\n",
    "#%pip install sqlalchemy\n",
    "import psycopg2\n",
    "import pandas as pd\n",
    "\n",
    "df_user = pd.read_sql(\n",
    "    \"\"\"SELECT * FROM public.user_data\"\"\",\n",
    "    con=\"postgresql://robot-startml-ro:pheiph0hahj1Vaif@\"\n",
    "        \"postgres.lab.karpov.courses:6432/startml\"\n",
    ")\n",
    "\n",
    "df_user.head()"
   ]
  },
  {
   "cell_type": "code",
   "execution_count": 2,
   "metadata": {
    "cellId": "mn32t941ndrmeqpenhwil",
    "execution": {
     "iopub.execute_input": "2022-08-11T10:59:37.325537Z",
     "iopub.status.busy": "2022-08-11T10:59:37.325247Z",
     "iopub.status.idle": "2022-08-11T10:59:40.291543Z",
     "shell.execute_reply": "2022-08-11T10:59:40.290510Z",
     "shell.execute_reply.started": "2022-08-11T10:59:37.325511Z"
    }
   },
   "outputs": [],
   "source": [
    "df_post = pd.read_sql(\n",
    "    \"\"\"SELECT * FROM public.post_text_df\"\"\",\n",
    "    con=\"postgresql://robot-startml-ro:pheiph0hahj1Vaif@\"\n",
    "        \"postgres.lab.karpov.courses:6432/startml\"\n",
    ")\n",
    "\n",
    "df_post.head()\n"
   ]
  },
  {
   "cell_type": "code",
   "execution_count": 3,
   "metadata": {
    "cellId": "zxyhle8qz0ql29f1hs6y3q",
    "execution": {
     "iopub.execute_input": "2022-08-11T10:59:40.293121Z",
     "iopub.status.busy": "2022-08-11T10:59:40.292768Z",
     "iopub.status.idle": "2022-08-11T10:59:40.299580Z",
     "shell.execute_reply": "2022-08-11T10:59:40.298592Z",
     "shell.execute_reply.started": "2022-08-11T10:59:40.293092Z"
    }
   },
   "outputs": [],
   "source": [
    "'''feed_data = pd.read_sql(\n",
    "    \"\"\"SELECT * FROM public.feed_data WHERE action = 'view' limit 3000000\"\"\",\n",
    "    con=\"postgresql://robot-startml-ro:pheiph0hahj1Vaif@\"\n",
    "        \"postgres.lab.karpov.courses:6432/startml\"\n",
    ")\n",
    "\n",
    "feed_data.head()\n",
    "feed_data=feed_data.drop([\"action\"],axis=1)'''"
   ]
  },
  {
   "cell_type": "code",
   "execution_count": 4,
   "metadata": {
    "cellId": "cf2gzmllgse78zhxweuyy2",
    "execution": {
     "iopub.execute_input": "2022-08-11T10:59:40.303394Z",
     "iopub.status.busy": "2022-08-11T10:59:40.302436Z",
     "iopub.status.idle": "2022-08-11T10:59:40.307909Z",
     "shell.execute_reply": "2022-08-11T10:59:40.307002Z",
     "shell.execute_reply.started": "2022-08-11T10:59:40.303300Z"
    }
   },
   "outputs": [],
   "source": [
    "#feed_data.count()"
   ]
  },
  {
   "cell_type": "code",
   "execution_count": 5,
   "metadata": {
    "cellId": "xzqv30ecm3qyep4oenm68",
    "execution": {
     "iopub.execute_input": "2022-08-11T10:59:40.310217Z",
     "iopub.status.busy": "2022-08-11T10:59:40.309539Z",
     "iopub.status.idle": "2022-08-11T10:59:59.460920Z",
     "shell.execute_reply": "2022-08-11T10:59:59.459996Z",
     "shell.execute_reply.started": "2022-08-11T10:59:40.310183Z"
    }
   },
   "outputs": [],
   "source": [
    "#Процент таргета 1 в изначальной БД\n",
    "#68686455/76892800=0.8932755082400433\n",
    "#Следовательно, если всего берем 100000 записей, то с таргетом 0 - 89000\n",
    "#SELECT * FROM public.feed_data WHERE target=1 order by random() limit 50000\n",
    "feed_data_1 = pd.read_sql(\n",
    "    \"\"\"SELECT * FROM public.feed_data WHERE action = 'view' and target=0 limit 2670000\"\"\",\n",
    "    con=\"postgresql://robot-startml-ro:pheiph0hahj1Vaif@\"\n",
    "        \"postgres.lab.karpov.courses:6432/startml\"\n",
    ")#2670000\n",
    "\n",
    "feed_data_1.head()"
   ]
  },
  {
   "cell_type": "code",
   "execution_count": 6,
   "metadata": {
    "cellId": "hs4icmvvnrcrtr4s94xut",
    "execution": {
     "iopub.execute_input": "2022-08-11T10:59:59.462972Z",
     "iopub.status.busy": "2022-08-11T10:59:59.462287Z",
     "iopub.status.idle": "2022-08-11T11:00:03.579290Z",
     "shell.execute_reply": "2022-08-11T11:00:03.578320Z",
     "shell.execute_reply.started": "2022-08-11T10:59:59.462945Z"
    }
   },
   "outputs": [],
   "source": [
    "#Процент таргета 0 в изначальной БД\n",
    "#8206345/76892800=0.10672449175995671\n",
    "feed_data_2 = pd.read_sql(\n",
    "    \"\"\"SELECT * FROM public.feed_data WHERE action = 'view' and target=1 limit 330000\"\"\",\n",
    "    con=\"postgresql://robot-startml-ro:pheiph0hahj1Vaif@\"\n",
    "        \"postgres.lab.karpov.courses:6432/startml\"\n",
    ")#330000\n",
    "\n",
    "feed_data_2.head()"
   ]
  },
  {
   "cell_type": "code",
   "execution_count": 7,
   "metadata": {
    "cellId": "obujifdif3p5afy0mbgwhf",
    "execution": {
     "iopub.execute_input": "2022-08-11T11:00:03.581255Z",
     "iopub.status.busy": "2022-08-11T11:00:03.580923Z",
     "iopub.status.idle": "2022-08-11T11:00:03.762672Z",
     "shell.execute_reply": "2022-08-11T11:00:03.761522Z",
     "shell.execute_reply.started": "2022-08-11T11:00:03.581228Z"
    }
   },
   "outputs": [],
   "source": [
    "feed_data=pd.concat([feed_data_1, feed_data_2])\n",
    "feed_data=feed_data.drop([\"action\"],axis=1)\n",
    "feed_data.head()\n"
   ]
  },
  {
   "cell_type": "markdown",
   "metadata": {
    "cellId": "ofzwhkxxmq8tyav08r735o",
    "execution_id": "d6eee3b7-e182-4bfc-97a9-683969dcb936"
   },
   "source": [
    "### Создание новых фичей"
   ]
  },
  {
   "cell_type": "markdown",
   "metadata": {
    "cellId": "mc20dilu3mswfoa2mtzwk",
    "execution_id": "0d1199fe-232f-4924-851f-a8d426b0fa82"
   },
   "source": [
    "### TF-IDF"
   ]
  },
  {
   "cell_type": "code",
   "execution_count": 8,
   "metadata": {
    "cellId": "mwndme6535bsolqgms7d1k",
    "execution": {
     "iopub.execute_input": "2022-08-11T11:00:03.764735Z",
     "iopub.status.busy": "2022-08-11T11:00:03.764347Z",
     "iopub.status.idle": "2022-08-11T11:00:03.768879Z",
     "shell.execute_reply": "2022-08-11T11:00:03.767942Z",
     "shell.execute_reply.started": "2022-08-11T11:00:03.764700Z"
    }
   },
   "outputs": [],
   "source": [
    "#%pip install nltk"
   ]
  },
  {
   "cell_type": "code",
   "execution_count": 9,
   "metadata": {
    "cellId": "n9kil72imx8hyxfi4wiwnu",
    "execution": {
     "iopub.execute_input": "2022-08-11T11:00:03.770983Z",
     "iopub.status.busy": "2022-08-11T11:00:03.770332Z",
     "iopub.status.idle": "2022-08-11T11:00:04.922372Z",
     "shell.execute_reply": "2022-08-11T11:00:04.921466Z",
     "shell.execute_reply.started": "2022-08-11T11:00:03.770939Z"
    }
   },
   "outputs": [],
   "source": [
    "import numpy as np\n",
    "import re\n",
    "import nltk\n",
    "from sklearn.datasets import load_files\n",
    "nltk.download('stopwords')\n",
    "import pickle\n",
    "from nltk.corpus import stopwords\n",
    "\n",
    "nltk.download('wordnet')\n",
    "nltk.download('omw-1.4')"
   ]
  },
  {
   "cell_type": "code",
   "execution_count": 10,
   "metadata": {
    "cellId": "d8h3ug0fqjpaq2qw27xfr",
    "execution": {
     "iopub.execute_input": "2022-08-11T11:00:04.926748Z",
     "iopub.status.busy": "2022-08-11T11:00:04.926443Z",
     "iopub.status.idle": "2022-08-11T11:00:14.928977Z",
     "shell.execute_reply": "2022-08-11T11:00:14.927851Z",
     "shell.execute_reply.started": "2022-08-11T11:00:04.926722Z"
    },
    "scrolled": true
   },
   "outputs": [],
   "source": [
    "from sklearn.feature_extraction.text import TfidfVectorizer\n",
    "\n",
    "import re\n",
    "import string\n",
    "\n",
    "from nltk.stem import WordNetLemmatizer \n",
    "\n",
    "wnl = WordNetLemmatizer()\n",
    "\n",
    "def preprocessing(line, token=wnl):\n",
    "    line = line.lower()\n",
    "    line = re.sub(r\"[{}]\".format(string.punctuation), \" \", line)\n",
    "    line = line.replace('\\n\\n', ' ').replace('\\n', ' ')\n",
    "    line = ' '.join([token.lemmatize(x) for x in line.split(' ')])\n",
    "    return line\n",
    "\n",
    "vectorizer_tfidf=TfidfVectorizer(max_df=0.9,min_df=0.003,stop_words='english',preprocessor=preprocessing)\n",
    "tfidf_matrix=vectorizer_tfidf.fit_transform(df_post['text'])\n",
    "\n",
    "df_post['tfidf_score']=pd.DataFrame(tfidf_matrix.todense()).sum(axis=1)\n",
    "df_post"
   ]
  },
  {
   "cell_type": "markdown",
   "metadata": {
    "cellId": "ir2znsm9kylh0iw3azcgh",
    "execution_id": "ecca6c11-a03d-42c4-a49f-848e177efd70"
   },
   "source": [
    "### Дополнительные признаки от нейронных сетей"
   ]
  },
  {
   "cell_type": "code",
   "execution_count": 11,
   "metadata": {
    "cellId": "84zxqk85mtjilg5zvvnot",
    "execution": {
     "iopub.execute_input": "2022-08-11T11:00:14.930999Z",
     "iopub.status.busy": "2022-08-11T11:00:14.930637Z",
     "iopub.status.idle": "2022-08-11T11:00:14.935816Z",
     "shell.execute_reply": "2022-08-11T11:00:14.934498Z",
     "shell.execute_reply.started": "2022-08-11T11:00:14.930963Z"
    }
   },
   "outputs": [],
   "source": [
    "#%pip install datasets transformers"
   ]
  },
  {
   "cell_type": "code",
   "execution_count": 12,
   "metadata": {
    "cellId": "ldlwt6grkgdomzmsfy8d",
    "execution": {
     "iopub.execute_input": "2022-08-11T11:00:14.938376Z",
     "iopub.status.busy": "2022-08-11T11:00:14.937214Z",
     "iopub.status.idle": "2022-08-11T11:00:14.946250Z",
     "shell.execute_reply": "2022-08-11T11:00:14.945246Z",
     "shell.execute_reply.started": "2022-08-11T11:00:14.938334Z"
    }
   },
   "outputs": [],
   "source": [
    "#%pip install torch"
   ]
  },
  {
   "cell_type": "code",
   "execution_count": 13,
   "metadata": {
    "cellId": "sy01230za7aduvs9p1bsw7",
    "execution": {
     "iopub.execute_input": "2022-08-11T11:00:14.948996Z",
     "iopub.status.busy": "2022-08-11T11:00:14.948295Z",
     "iopub.status.idle": "2022-08-11T11:00:16.587057Z",
     "shell.execute_reply": "2022-08-11T11:00:16.586073Z",
     "shell.execute_reply.started": "2022-08-11T11:00:14.948962Z"
    }
   },
   "outputs": [],
   "source": [
    "import torch\n",
    "import torch.nn as nn\n",
    "import numpy as np"
   ]
  },
  {
   "cell_type": "code",
   "execution_count": 14,
   "metadata": {
    "cellId": "r4i12xla7cbda1xcsp126f",
    "execution": {
     "iopub.execute_input": "2022-08-11T11:00:16.589474Z",
     "iopub.status.busy": "2022-08-11T11:00:16.588729Z",
     "iopub.status.idle": "2022-08-11T11:00:18.151893Z",
     "shell.execute_reply": "2022-08-11T11:00:18.150746Z",
     "shell.execute_reply.started": "2022-08-11T11:00:16.589409Z"
    }
   },
   "outputs": [],
   "source": [
    "#!g1.1\n",
    "from transformers import AutoTokenizer\n",
    "from transformers import BertModel  # https://huggingface.co/docs/transformers/model_doc/bert#transformers.BertModel\n",
    "from transformers import RobertaModel  # https://huggingface.co/docs/transformers/model_doc/roberta#transformers.RobertaModel\n",
    "from transformers import DistilBertModel  # https://huggingface.co/docs/transformers/model_doc/distilbert#transformers.DistilBertModel\n",
    "\n",
    "\n",
    "def get_model(model_name):\n",
    "    assert model_name in ['bert', 'roberta', 'distilbert']\n",
    "    \n",
    "    checkpoint_names = {\n",
    "        'bert': 'bert-base-cased',  # https://huggingface.co/bert-base-cased\n",
    "        'roberta': 'roberta-base',  # https://huggingface.co/roberta-base\n",
    "        'distilbert': 'distilbert-base-cased'  # https://huggingface.co/distilbert-base-cased\n",
    "    }\n",
    "    \n",
    "    model_classes = {\n",
    "        'bert': BertModel,\n",
    "        'roberta': RobertaModel,\n",
    "        'distilbert': DistilBertModel\n",
    "    }\n",
    "    \n",
    "    return AutoTokenizer.from_pretrained(checkpoint_names[model_name]), model_classes[model_name].from_pretrained(checkpoint_names[model_name])"
   ]
  },
  {
   "cell_type": "code",
   "execution_count": 15,
   "metadata": {
    "cellId": "ase0oiniomd2jxd8pumdgj",
    "execution": {
     "iopub.execute_input": "2022-08-11T11:00:18.154059Z",
     "iopub.status.busy": "2022-08-11T11:00:18.153659Z",
     "iopub.status.idle": "2022-08-11T11:00:18.555038Z",
     "shell.execute_reply": "2022-08-11T11:00:18.554037Z",
     "shell.execute_reply.started": "2022-08-11T11:00:18.154016Z"
    }
   },
   "outputs": [],
   "source": [
    "from datasets import Dataset\n",
    "\n",
    "my_dict = {\"text\": list(df_post['text']),\"label\": list(df_post.topic.astype('category').cat.codes)}\n",
    "\n",
    "dataset = Dataset.from_dict(my_dict)"
   ]
  },
  {
   "cell_type": "code",
   "execution_count": 16,
   "metadata": {
    "cellId": "yhobdrakc1hglpo9vnfrl",
    "execution": {
     "iopub.execute_input": "2022-08-11T11:00:18.557114Z",
     "iopub.status.busy": "2022-08-11T11:00:18.556557Z",
     "iopub.status.idle": "2022-08-11T11:00:18.567633Z",
     "shell.execute_reply": "2022-08-11T11:00:18.566500Z",
     "shell.execute_reply.started": "2022-08-11T11:00:18.557084Z"
    }
   },
   "outputs": [],
   "source": [
    "dataset"
   ]
  },
  {
   "cell_type": "code",
   "execution_count": 17,
   "metadata": {
    "cellId": "jrmsyablolwd3absnssbr",
    "execution": {
     "iopub.execute_input": "2022-08-11T11:00:18.569832Z",
     "iopub.status.busy": "2022-08-11T11:00:18.569187Z",
     "iopub.status.idle": "2022-08-11T11:00:18.579024Z",
     "shell.execute_reply": "2022-08-11T11:00:18.578016Z",
     "shell.execute_reply.started": "2022-08-11T11:00:18.569796Z"
    }
   },
   "outputs": [],
   "source": [
    "dataset[0]"
   ]
  },
  {
   "cell_type": "code",
   "execution_count": 18,
   "metadata": {
    "cellId": "171zt575ep6slgmhyw6lu9",
    "execution": {
     "iopub.execute_input": "2022-08-11T11:00:18.581097Z",
     "iopub.status.busy": "2022-08-11T11:00:18.580614Z",
     "iopub.status.idle": "2022-08-11T11:00:18.590152Z",
     "shell.execute_reply": "2022-08-11T11:00:18.588128Z",
     "shell.execute_reply.started": "2022-08-11T11:00:18.581063Z"
    }
   },
   "outputs": [],
   "source": [
    "dataset[0].keys()"
   ]
  },
  {
   "cell_type": "code",
   "execution_count": 19,
   "metadata": {
    "cellId": "wnujsbeqy8g7ssr5014l",
    "execution": {
     "iopub.execute_input": "2022-08-11T11:00:18.592768Z",
     "iopub.status.busy": "2022-08-11T11:00:18.591588Z",
     "iopub.status.idle": "2022-08-11T11:00:50.832178Z",
     "shell.execute_reply": "2022-08-11T11:00:50.831060Z",
     "shell.execute_reply.started": "2022-08-11T11:00:18.592735Z"
    },
    "scrolled": true
   },
   "outputs": [],
   "source": [
    "#!g1.1\n",
    "tokenizer, model = get_model('bert')"
   ]
  },
  {
   "cell_type": "code",
   "execution_count": 20,
   "metadata": {
    "cellId": "wfdbm64x0422zplv22tgeh",
    "execution": {
     "iopub.execute_input": "2022-08-11T11:00:50.834139Z",
     "iopub.status.busy": "2022-08-11T11:00:50.833690Z",
     "iopub.status.idle": "2022-08-11T11:00:50.904933Z",
     "shell.execute_reply": "2022-08-11T11:00:50.903889Z",
     "shell.execute_reply.started": "2022-08-11T11:00:50.834101Z"
    }
   },
   "outputs": [],
   "source": [
    "#!g1.1\n",
    "device = torch.device('cuda:0' if torch.cuda.is_available() else 'cpu')\n",
    "\n",
    "print(device)\n",
    "print(torch.cuda.get_device_name())"
   ]
  },
  {
   "cell_type": "code",
   "execution_count": 21,
   "metadata": {
    "cellId": "rfsesl3a9884b4znoz1wb1",
    "execution": {
     "iopub.execute_input": "2022-08-11T11:00:50.907791Z",
     "iopub.status.busy": "2022-08-11T11:00:50.906463Z",
     "iopub.status.idle": "2022-08-11T11:00:53.924642Z",
     "shell.execute_reply": "2022-08-11T11:00:53.923398Z",
     "shell.execute_reply.started": "2022-08-11T11:00:50.907752Z"
    }
   },
   "outputs": [],
   "source": [
    "#!g1.1\n",
    "model = model.to(device)"
   ]
  },
  {
   "cell_type": "code",
   "execution_count": 22,
   "metadata": {
    "cellId": "vxwh2ttvd4k25pzrziq5j",
    "execution": {
     "iopub.execute_input": "2022-08-11T11:00:53.932706Z",
     "iopub.status.busy": "2022-08-11T11:00:53.929851Z",
     "iopub.status.idle": "2022-08-11T11:00:58.068214Z",
     "shell.execute_reply": "2022-08-11T11:00:58.067215Z",
     "shell.execute_reply.started": "2022-08-11T11:00:53.932669Z"
    }
   },
   "outputs": [],
   "source": [
    "from transformers import DataCollatorWithPadding\n",
    "\n",
    "data_collator = DataCollatorWithPadding(tokenizer=tokenizer)"
   ]
  },
  {
   "cell_type": "code",
   "execution_count": 23,
   "metadata": {
    "cellId": "kjp22pduy3ipw4w8lkbhl",
    "execution": {
     "iopub.execute_input": "2022-08-11T11:00:58.069979Z",
     "iopub.status.busy": "2022-08-11T11:00:58.069630Z",
     "iopub.status.idle": "2022-08-11T11:01:02.541480Z",
     "shell.execute_reply": "2022-08-11T11:01:02.540497Z",
     "shell.execute_reply.started": "2022-08-11T11:00:58.069942Z"
    }
   },
   "outputs": [],
   "source": [
    "#!g1.1\n",
    "def tokenization(example):\n",
    "    return tokenizer.batch_encode_plus(example['text'], add_special_tokens=True, return_token_type_ids=False, truncation=True)\n",
    "\n",
    "dataset = dataset.map(tokenization, batched=True)"
   ]
  },
  {
   "cell_type": "code",
   "execution_count": 24,
   "metadata": {
    "cellId": "vbys7y5z1nocm55wdte2q5",
    "execution": {
     "iopub.execute_input": "2022-08-11T11:01:02.544063Z",
     "iopub.status.busy": "2022-08-11T11:01:02.543034Z",
     "iopub.status.idle": "2022-08-11T11:01:02.551158Z",
     "shell.execute_reply": "2022-08-11T11:01:02.550190Z",
     "shell.execute_reply.started": "2022-08-11T11:01:02.544025Z"
    }
   },
   "outputs": [],
   "source": [
    "dataset[0].keys()"
   ]
  },
  {
   "cell_type": "code",
   "execution_count": 25,
   "metadata": {
    "cellId": "nge3l4sdnwqy4vp9o7ij",
    "execution": {
     "iopub.execute_input": "2022-08-11T11:01:02.553377Z",
     "iopub.status.busy": "2022-08-11T11:01:02.552622Z",
     "iopub.status.idle": "2022-08-11T11:01:02.561624Z",
     "shell.execute_reply": "2022-08-11T11:01:02.560777Z",
     "shell.execute_reply.started": "2022-08-11T11:01:02.553340Z"
    }
   },
   "outputs": [],
   "source": [
    "dataset.set_format(type=\"torch\", columns=[\"input_ids\", \"attention_mask\", \"label\"])\n",
    "\n",
    "from torch.utils.data import DataLoader\n",
    "loader = DataLoader(dataset, batch_size=64, collate_fn=data_collator, pin_memory=True, shuffle=False)"
   ]
  },
  {
   "cell_type": "code",
   "execution_count": 26,
   "metadata": {
    "cellId": "mwg7jc04m1jjh0defuivcs",
    "execution": {
     "iopub.execute_input": "2022-08-11T11:01:02.565073Z",
     "iopub.status.busy": "2022-08-11T11:01:02.564750Z",
     "iopub.status.idle": "2022-08-11T11:01:02.576093Z",
     "shell.execute_reply": "2022-08-11T11:01:02.575094Z",
     "shell.execute_reply.started": "2022-08-11T11:01:02.565041Z"
    }
   },
   "outputs": [],
   "source": [
    "#!g1.1\n",
    "from tqdm import tqdm\n",
    "\n",
    "\n",
    "@torch.inference_mode()\n",
    "def get_embeddings_labels(model, loader):\n",
    "    model.eval()\n",
    "    \n",
    "    total_embeddings = []\n",
    "    labels = []\n",
    "    \n",
    "    for batch in tqdm(loader):\n",
    "        labels.append(batch['labels'].unsqueeze(1))\n",
    "\n",
    "        batch = {key: batch[key].to(device) for key in ['attention_mask', 'input_ids']}\n",
    "\n",
    "        embeddings = model(**batch)['last_hidden_state'][:, 0, :]\n",
    "\n",
    "        total_embeddings.append(embeddings.cpu())\n",
    "\n",
    "    return torch.cat(total_embeddings, dim=0), torch.cat(labels, dim=0).to(torch.float32)"
   ]
  },
  {
   "cell_type": "code",
   "execution_count": 27,
   "metadata": {
    "cellId": "8s6dbxfzj3ak67x0l31thh",
    "execution": {
     "iopub.execute_input": "2022-08-11T11:01:02.577930Z",
     "iopub.status.busy": "2022-08-11T11:01:02.577502Z",
     "iopub.status.idle": "2022-08-11T11:02:44.881208Z",
     "shell.execute_reply": "2022-08-11T11:02:44.880136Z",
     "shell.execute_reply.started": "2022-08-11T11:01:02.577895Z"
    }
   },
   "outputs": [],
   "source": [
    "#!g1.1\n",
    "embeddings, labels = get_embeddings_labels(model, loader)"
   ]
  },
  {
   "cell_type": "code",
   "execution_count": null,
   "metadata": {},
   "outputs": [],
   "source": []
  },
  {
   "cell_type": "code",
   "execution_count": null,
   "metadata": {},
   "outputs": [],
   "source": []
  },
  {
   "cell_type": "code",
   "execution_count": 28,
   "metadata": {
    "cellId": "z09rhihuhtj1xdizf7x98",
    "execution": {
     "iopub.execute_input": "2022-08-11T11:02:44.889225Z",
     "iopub.status.busy": "2022-08-11T11:02:44.888891Z",
     "iopub.status.idle": "2022-08-11T11:02:44.895774Z",
     "shell.execute_reply": "2022-08-11T11:02:44.894696Z",
     "shell.execute_reply.started": "2022-08-11T11:02:44.889194Z"
    }
   },
   "outputs": [],
   "source": [
    "#!g1.1\n",
    "embeddings.shape, labels.shape"
   ]
  },
  {
   "cell_type": "markdown",
   "metadata": {
    "cellId": "xx6nktoc9zmevl2j2f24r",
    "execution_id": "d37aa13e-1b14-4281-9621-481c509f5380"
   },
   "source": [
    "### PCA Анализ"
   ]
  },
  {
   "cell_type": "code",
   "execution_count": 29,
   "metadata": {
    "cellId": "xxntn25z8vgb5uy62pjrmr",
    "execution": {
     "iopub.execute_input": "2022-08-11T11:02:44.897775Z",
     "iopub.status.busy": "2022-08-11T11:02:44.897397Z",
     "iopub.status.idle": "2022-08-11T11:02:53.711506Z",
     "shell.execute_reply": "2022-08-11T11:02:53.710471Z",
     "shell.execute_reply.started": "2022-08-11T11:02:44.897740Z"
    }
   },
   "outputs": [],
   "source": [
    "#!g1.1\n",
    "embed=pd.DataFrame(embeddings)"
   ]
  },
  {
   "cell_type": "code",
   "execution_count": 30,
   "metadata": {
    "cellId": "i7ipg8oo3dqyvh9rfdwdzk",
    "execution": {
     "iopub.execute_input": "2022-08-11T11:02:53.713589Z",
     "iopub.status.busy": "2022-08-11T11:02:53.713191Z",
     "iopub.status.idle": "2022-08-11T11:03:41.388644Z",
     "shell.execute_reply": "2022-08-11T11:03:41.387389Z",
     "shell.execute_reply.started": "2022-08-11T11:02:53.713550Z"
    }
   },
   "outputs": [],
   "source": [
    "#!g1.1\n",
    "### Центрируем данные\n",
    "\n",
    "embed = embed.subtract(embed.mean())\n",
    "\n",
    "embed.head()"
   ]
  },
  {
   "cell_type": "code",
   "execution_count": 31,
   "metadata": {
    "cellId": "o7z2t5yl73rp491pdzvp",
    "execution": {
     "iopub.execute_input": "2022-08-11T11:03:41.390986Z",
     "iopub.status.busy": "2022-08-11T11:03:41.390305Z",
     "iopub.status.idle": "2022-08-11T11:03:44.547754Z",
     "shell.execute_reply": "2022-08-11T11:03:44.546841Z",
     "shell.execute_reply.started": "2022-08-11T11:03:41.390950Z"
    }
   },
   "outputs": [],
   "source": [
    "### Разложим матрицу Х на главные компоненты\n",
    "\n",
    "from sklearn.decomposition import PCA\n",
    "\n",
    "pca = PCA(n_components=30)\n",
    "\n",
    "PCA_dat = pca.fit_transform(embed)\n",
    "\n",
    "PCA_dataset = pd.DataFrame(PCA_dat)#columns=['PCA_1', 'PCA_2','PCA_3', 'PCA_4','PCA_5', 'PCA_6','PCA_7', 'PCA_8','PCA_9', 'PCA_10']\n",
    "\n",
    "PCA_dataset.head()"
   ]
  },
  {
   "cell_type": "code",
   "execution_count": 32,
   "metadata": {
    "cellId": "wdfhtpwok2zkqy4gdk6re",
    "execution": {
     "iopub.execute_input": "2022-08-11T11:03:44.549327Z",
     "iopub.status.busy": "2022-08-11T11:03:44.548989Z",
     "iopub.status.idle": "2022-08-11T11:03:44.555427Z",
     "shell.execute_reply": "2022-08-11T11:03:44.554434Z",
     "shell.execute_reply.started": "2022-08-11T11:03:44.549293Z"
    }
   },
   "outputs": [],
   "source": [
    "#Конкатим полученную матрицу с изначальной\n",
    "#df_meta = pd.concat([df_post, PCA_dataset], axis=1)"
   ]
  },
  {
   "cell_type": "markdown",
   "metadata": {
    "cellId": "hreof9d1qwalr658fwjbe",
    "execution_id": "a4de6de0-c6fa-4fd9-80c8-ea0825e16495"
   },
   "source": [
    "## Кластеризация"
   ]
  },
  {
   "cell_type": "code",
   "execution_count": 33,
   "metadata": {
    "cellId": "i3l5zn0t2wk2p2j2o98tl",
    "execution": {
     "iopub.execute_input": "2022-08-11T11:03:44.557807Z",
     "iopub.status.busy": "2022-08-11T11:03:44.557029Z",
     "iopub.status.idle": "2022-08-11T11:03:46.128023Z",
     "shell.execute_reply": "2022-08-11T11:03:46.127041Z",
     "shell.execute_reply.started": "2022-08-11T11:03:44.557772Z"
    }
   },
   "outputs": [],
   "source": [
    "### Применим к объектам K-means \n",
    "### с 10 кластерами \n",
    "from sklearn.cluster import KMeans\n",
    "   \n",
    "kmeans = KMeans(n_clusters=16, random_state=0).fit(PCA_dat)\n"
   ]
  },
  {
   "cell_type": "code",
   "execution_count": 34,
   "metadata": {
    "cellId": "fmxsatpg6ovehlgwzzsekr",
    "execution": {
     "iopub.execute_input": "2022-08-11T11:03:46.130042Z",
     "iopub.status.busy": "2022-08-11T11:03:46.129675Z",
     "iopub.status.idle": "2022-08-11T11:03:46.175037Z",
     "shell.execute_reply": "2022-08-11T11:03:46.173320Z",
     "shell.execute_reply.started": "2022-08-11T11:03:46.130007Z"
    }
   },
   "outputs": [],
   "source": [
    "df_meta=df_post\n",
    "df_meta['Clasters']= kmeans.labels_\n",
    "\n",
    "dists_columns = ['DistanceTo1thCluster',\n",
    "                 'DistanceTo2thCluster',\n",
    "                 'DistanceTo3thCluster',\n",
    "                 'DistanceTo4thCluster',\n",
    "                 'DistanceTo5thCluster',\n",
    "                 'DistanceTo6thCluster',\n",
    "                 'DistanceTo7thCluster',\n",
    "                 'DistanceTo8thCluster',\n",
    "                 'DistanceTo9thCluster',\n",
    "                 'DistanceTo10thCluster',\n",
    "                 'DistanceTo11thCluster',\n",
    "                 'DistanceTo12thCluster',\n",
    "                 'DistanceTo13thCluster',\n",
    "                 'DistanceTo14thCluster',\n",
    "                 'DistanceTo15thCluster',\n",
    "                 'DistanceTo16thCluster'\n",
    "                 ]\n",
    "\n",
    "dists_df = pd.DataFrame(\n",
    "    data=kmeans.transform(PCA_dat),\n",
    "    columns=dists_columns\n",
    ")\n",
    "\n",
    "dists_df.head()"
   ]
  },
  {
   "cell_type": "code",
   "execution_count": 35,
   "metadata": {
    "cellId": "0g43sqvyk7nvg1wcl93ukc5",
    "execution": {
     "iopub.execute_input": "2022-08-11T11:03:46.176798Z",
     "iopub.status.busy": "2022-08-11T11:03:46.176448Z",
     "iopub.status.idle": "2022-08-11T11:03:46.225625Z",
     "shell.execute_reply": "2022-08-11T11:03:46.224496Z",
     "shell.execute_reply.started": "2022-08-11T11:03:46.176764Z"
    }
   },
   "outputs": [],
   "source": [
    "df_meta = pd.concat((df_meta,dists_df), axis=1)\n",
    "\n",
    "df_meta.head()"
   ]
  },
  {
   "cell_type": "code",
   "execution_count": 36,
   "metadata": {
    "cellId": "aphnhxpod5n6tjwxege0ot",
    "execution": {
     "iopub.execute_input": "2022-08-11T11:03:46.231852Z",
     "iopub.status.busy": "2022-08-11T11:03:46.230802Z",
     "iopub.status.idle": "2022-08-11T11:03:46.242391Z",
     "shell.execute_reply": "2022-08-11T11:03:46.241199Z",
     "shell.execute_reply.started": "2022-08-11T11:03:46.231794Z"
    }
   },
   "outputs": [],
   "source": [
    "#df_meta=df_post"
   ]
  },
  {
   "cell_type": "code",
   "execution_count": 37,
   "metadata": {
    "cellId": "806yllachzm9qbmnqwmc6b",
    "execution": {
     "iopub.execute_input": "2022-08-11T11:03:46.248794Z",
     "iopub.status.busy": "2022-08-11T11:03:46.246107Z",
     "iopub.status.idle": "2022-08-11T11:03:46.255677Z",
     "shell.execute_reply": "2022-08-11T11:03:46.254263Z",
     "shell.execute_reply.started": "2022-08-11T11:03:46.247705Z"
    }
   },
   "outputs": [],
   "source": [
    "#!g1.1 embed\n",
    "#df_meta = pd.concat([df_post, pd.DataFrame(embeddings)], axis=1)"
   ]
  },
  {
   "cell_type": "code",
   "execution_count": 38,
   "metadata": {
    "cellId": "tat63zlvshc9zlg2y4loy",
    "execution": {
     "iopub.execute_input": "2022-08-11T11:03:46.260433Z",
     "iopub.status.busy": "2022-08-11T11:03:46.259369Z",
     "iopub.status.idle": "2022-08-11T11:03:46.269009Z",
     "shell.execute_reply": "2022-08-11T11:03:46.267848Z",
     "shell.execute_reply.started": "2022-08-11T11:03:46.260384Z"
    }
   },
   "outputs": [],
   "source": [
    "#Конкатим полученную матрицу с изначальной\n",
    "#df_meta = pd.concat([df_post, pd.DataFrame(X)], axis=1)"
   ]
  },
  {
   "cell_type": "code",
   "execution_count": 39,
   "metadata": {
    "cellId": "capshonk88nd8gjjj04z2a",
    "execution": {
     "iopub.execute_input": "2022-08-11T11:03:46.273388Z",
     "iopub.status.busy": "2022-08-11T11:03:46.272056Z",
     "iopub.status.idle": "2022-08-11T11:03:46.281404Z",
     "shell.execute_reply": "2022-08-11T11:03:46.280497Z",
     "shell.execute_reply.started": "2022-08-11T11:03:46.273338Z"
    }
   },
   "outputs": [],
   "source": [
    "#Для обучения df_meta_without_topic без 'topic', a в загрузку на сервер df_meta\n",
    "df_meta_without_text=df_meta.drop(['text'],axis=1)"
   ]
  },
  {
   "cell_type": "code",
   "execution_count": 40,
   "metadata": {
    "cellId": "zbwokk36hbh5xue2hf5bno",
    "execution": {
     "iopub.execute_input": "2022-08-11T11:03:46.283604Z",
     "iopub.status.busy": "2022-08-11T11:03:46.282814Z",
     "iopub.status.idle": "2022-08-11T11:03:46.308045Z",
     "shell.execute_reply": "2022-08-11T11:03:46.307121Z",
     "shell.execute_reply.started": "2022-08-11T11:03:46.283570Z"
    }
   },
   "outputs": [],
   "source": [
    "df_meta_without_text.head()"
   ]
  },
  {
   "cell_type": "code",
   "execution_count": 41,
   "metadata": {
    "cellId": "yj05w7zfn33qh5m6di234",
    "execution": {
     "iopub.execute_input": "2022-08-11T11:03:46.310338Z",
     "iopub.status.busy": "2022-08-11T11:03:46.309229Z",
     "iopub.status.idle": "2022-08-11T11:03:47.411253Z",
     "shell.execute_reply": "2022-08-11T11:03:47.410318Z",
     "shell.execute_reply.started": "2022-08-11T11:03:46.310305Z"
    }
   },
   "outputs": [],
   "source": [
    "df = pd.merge(\n",
    "    feed_data,\n",
    "    df_meta_without_text,\n",
    "    on='post_id',\n",
    "    how='left'\n",
    ")\n",
    "df.head()"
   ]
  },
  {
   "cell_type": "code",
   "execution_count": 42,
   "metadata": {
    "execution": {
     "iopub.execute_input": "2022-08-11T11:03:47.413658Z",
     "iopub.status.busy": "2022-08-11T11:03:47.412574Z",
     "iopub.status.idle": "2022-08-11T11:03:51.467625Z",
     "shell.execute_reply": "2022-08-11T11:03:51.466519Z",
     "shell.execute_reply.started": "2022-08-11T11:03:47.413621Z"
    }
   },
   "outputs": [],
   "source": [
    "df_new = pd.merge(\n",
    "    df,\n",
    "    df_user,\n",
    "    on='user_id',\n",
    "    how='left'\n",
    ")\n",
    "df_new = df_new.set_index(['user_id', 'post_id'])\n",
    "df_new.head()"
   ]
  },
  {
   "cell_type": "code",
   "execution_count": 43,
   "metadata": {
    "execution": {
     "iopub.execute_input": "2022-08-11T11:03:51.469606Z",
     "iopub.status.busy": "2022-08-11T11:03:51.469224Z",
     "iopub.status.idle": "2022-08-11T11:04:13.678817Z",
     "shell.execute_reply": "2022-08-11T11:04:13.677711Z",
     "shell.execute_reply.started": "2022-08-11T11:03:51.469562Z"
    }
   },
   "outputs": [],
   "source": [
    "#Добавим еще признаки\n",
    "df_new['hour'] = pd.to_datetime(df_new['timestamp']).apply(lambda x: x.hour)\n",
    "df_new['month'] = pd.to_datetime(df_new['timestamp']).apply(lambda x: x.month)\n",
    "df_new.head()"
   ]
  },
  {
   "cell_type": "code",
   "execution_count": 44,
   "metadata": {
    "execution": {
     "iopub.execute_input": "2022-08-11T11:04:13.680836Z",
     "iopub.status.busy": "2022-08-11T11:04:13.680437Z",
     "iopub.status.idle": "2022-08-11T11:04:18.603476Z",
     "shell.execute_reply": "2022-08-11T11:04:18.602368Z",
     "shell.execute_reply.started": "2022-08-11T11:04:13.680799Z"
    }
   },
   "outputs": [],
   "source": [
    "df_new.corr()"
   ]
  },
  {
   "cell_type": "code",
   "execution_count": 45,
   "metadata": {
    "execution": {
     "iopub.execute_input": "2022-08-11T11:04:18.605420Z",
     "iopub.status.busy": "2022-08-11T11:04:18.605062Z",
     "iopub.status.idle": "2022-08-11T11:04:27.347275Z",
     "shell.execute_reply": "2022-08-11T11:04:27.346296Z",
     "shell.execute_reply.started": "2022-08-11T11:04:18.605386Z"
    }
   },
   "outputs": [],
   "source": [
    "max(df_new.timestamp), min(df_new.timestamp)"
   ]
  },
  {
   "cell_type": "code",
   "execution_count": 46,
   "metadata": {
    "cellId": "z8ntxn4w719f9cu3fkwmg",
    "execution": {
     "iopub.execute_input": "2022-08-11T11:04:27.349284Z",
     "iopub.status.busy": "2022-08-11T11:04:27.348752Z",
     "iopub.status.idle": "2022-08-11T11:04:29.950327Z",
     "shell.execute_reply": "2022-08-11T11:04:29.949433Z",
     "shell.execute_reply.started": "2022-08-11T11:04:27.349246Z"
    }
   },
   "outputs": [],
   "source": [
    "### За отсечку возьмем 2021-12-15\n",
    "\n",
    "df_train = df_new[df_new.timestamp < '2021-12-15']\n",
    "df_test = df_new[df_new.timestamp >= '2021-12-15']\n",
    "\n",
    "df_train = df_train.drop('timestamp', axis=1)\n",
    "df_test = df_test.drop('timestamp', axis=1)\n",
    "\n",
    "X_train = df_train.drop('target', axis=1)\n",
    "X_test = df_test.drop('target', axis=1)\n",
    "\n",
    "y_train = df_train['target']\n",
    "y_test = df_test['target']\n",
    "\n",
    "y_train.shape, y_test.shape"
   ]
  },
  {
   "cell_type": "markdown",
   "metadata": {
    "cellId": "e0wnendmh07s9p5mei4yr",
    "execution_id": "c40bf39d-8109-41d9-aba5-0561c6ffee04"
   },
   "source": [
    "## Catboost"
   ]
  },
  {
   "cell_type": "code",
   "execution_count": 47,
   "metadata": {
    "cellId": "wjp4yosf0nv4vom5v20xn",
    "execution": {
     "iopub.execute_input": "2022-08-11T11:04:29.952321Z",
     "iopub.status.busy": "2022-08-11T11:04:29.951952Z",
     "iopub.status.idle": "2022-08-11T11:04:29.956682Z",
     "shell.execute_reply": "2022-08-11T11:04:29.955510Z",
     "shell.execute_reply.started": "2022-08-11T11:04:29.952285Z"
    }
   },
   "outputs": [],
   "source": [
    "#%pip install catboost"
   ]
  },
  {
   "cell_type": "code",
   "execution_count": 62,
   "metadata": {
    "cellId": "te98e7d74helt1sjck17o",
    "execution": {
     "iopub.execute_input": "2022-08-11T11:07:53.164933Z",
     "iopub.status.busy": "2022-08-11T11:07:53.164558Z",
     "iopub.status.idle": "2022-08-11T11:10:13.962055Z",
     "shell.execute_reply": "2022-08-11T11:10:13.960995Z",
     "shell.execute_reply.started": "2022-08-11T11:07:53.164897Z"
    }
   },
   "outputs": [],
   "source": [
    "categorical_columns = [\n",
    "    'topic', 'Clasters', 'gender', 'country',\n",
    "    'city', 'exp_group',\n",
    "    'os', 'source','hour', 'month'\n",
    "]#,'hour', 'month'\n",
    "\n",
    "from catboost import CatBoostClassifier\n",
    "\n",
    "catboost_model = CatBoostClassifier(iterations=100,\n",
    "                              learning_rate=1,\n",
    "                              depth=2)\n",
    "\n",
    "\n",
    "catboost_model.fit(X_train, y_train,\n",
    "                   categorical_columns    \n",
    "             )"
   ]
  },
  {
   "cell_type": "code",
   "execution_count": 67,
   "metadata": {
    "cellId": "5z6lshrea1nspv465l1mxa",
    "execution": {
     "iopub.execute_input": "2022-08-11T11:23:01.695034Z",
     "iopub.status.busy": "2022-08-11T11:23:01.694245Z",
     "iopub.status.idle": "2022-08-11T11:23:01.709253Z",
     "shell.execute_reply": "2022-08-11T11:23:01.708240Z",
     "shell.execute_reply.started": "2022-08-11T11:23:01.694987Z"
    }
   },
   "outputs": [],
   "source": [
    "catboost_model.save_model('catboost_model_with_16_clasters_3+hour_month.cbm',\n",
    "                           format=\"cbm\")"
   ]
  },
  {
   "cell_type": "code",
   "execution_count": 66,
   "metadata": {
    "cellId": "ntwhkezmgc2uu182rdrrb",
    "execution": {
     "iopub.execute_input": "2022-08-11T11:22:54.286977Z",
     "iopub.status.busy": "2022-08-11T11:22:54.286275Z",
     "iopub.status.idle": "2022-08-11T11:23:01.692243Z",
     "shell.execute_reply": "2022-08-11T11:23:01.691003Z",
     "shell.execute_reply.started": "2022-08-11T11:22:54.286940Z"
    }
   },
   "outputs": [],
   "source": [
    "### Замерим качество работы такой модели\n",
    "### Возьмем ROC-AUC\n",
    "from sklearn.metrics import roc_auc_score\n",
    "\n",
    "print(f\"Качество на трейне: {roc_auc_score(y_train, catboost_model.predict_proba(X_train)[:, 1])}\")\n",
    "print(f\"Качество на тесте: {roc_auc_score(y_test, catboost_model.predict_proba(X_test)[:, 1])}\")"
   ]
  },
  {
   "cell_type": "code",
   "execution_count": 68,
   "metadata": {
    "cellId": "0uo338w54qc8j1bhw51f1u",
    "execution": {
     "iopub.execute_input": "2022-08-11T11:23:04.798529Z",
     "iopub.status.busy": "2022-08-11T11:23:04.798037Z",
     "iopub.status.idle": "2022-08-11T11:23:05.367230Z",
     "shell.execute_reply": "2022-08-11T11:23:05.366291Z",
     "shell.execute_reply.started": "2022-08-11T11:23:04.798428Z"
    }
   },
   "outputs": [],
   "source": [
    "\n",
    "import seaborn as sns\n",
    "import numpy as np\n",
    "import matplotlib.pyplot as plt\n",
    "\n",
    "def plot_feature_importance(importance,names,model_type):\n",
    "    \n",
    "    #Create arrays from feature importance and feature names\n",
    "    feature_importance = np.array(importance)\n",
    "    feature_names = np.array(names)\n",
    "    \n",
    "    #Create a DataFrame using a Dictionary\n",
    "    data={'feature_names':feature_names,'feature_importance':feature_importance}\n",
    "    fi_df = pd.DataFrame(data)\n",
    "    \n",
    "    #Sort the DataFrame in order decreasing feature importance\n",
    "    fi_df.sort_values(by=['feature_importance'], ascending=False,inplace=True)\n",
    "    \n",
    "    #Define size of bar plot\n",
    "    plt.figure(figsize=(20,16))\n",
    "    #Plot Searborn bar chart\n",
    "    sns.barplot(x=fi_df['feature_importance'], y=fi_df['feature_names'])\n",
    "    #Add chart labels\n",
    "    plt.title(model_type + 'FEATURE IMPORTANCE')\n",
    "    plt.xlabel('FEATURE IMPORTANCE')\n",
    "    plt.ylabel('FEATURE NAMES')\n",
    "    \n",
    "plot_feature_importance(catboost_model.feature_importances_,X_train.columns,'Catboost')"
   ]
  },
  {
   "cell_type": "markdown",
   "metadata": {},
   "source": [
    "### Сохраняем полученные фичи в БД"
   ]
  },
  {
   "cell_type": "code",
   "execution_count": 69,
   "metadata": {
    "cellId": "ojc65gqe3x1rbymprbdgp",
    "execution": {
     "iopub.execute_input": "2022-08-11T11:23:13.923505Z",
     "iopub.status.busy": "2022-08-11T11:23:13.923103Z",
     "iopub.status.idle": "2022-08-11T11:23:21.530942Z",
     "shell.execute_reply": "2022-08-11T11:23:21.529870Z",
     "shell.execute_reply.started": "2022-08-11T11:23:13.923444Z"
    }
   },
   "outputs": [],
   "source": [
    "#!c1.32\n",
    "import psycopg2\n",
    "from sqlalchemy import create_engine\n",
    "\n",
    "# предполагаем, что у нас есть DataFrame с названием 'date'\n",
    "\n",
    "# Подключаемся к базе данных PGSQL\n",
    "engine = create_engine(\"postgresql://robot-startml-ro:pheiph0hahj1Vaif@\"\"postgres.lab.karpov.courses:6432/startml\")\n",
    "\n",
    "# Пишем в PGSQL\n",
    "df_meta.to_sql('meta_ve', con=engine, if_exists='replace')\n"
   ]
  },
  {
   "cell_type": "code",
   "execution_count": 71,
   "metadata": {
    "cellId": "m0r67fmgaoe0p1r334ivb2p",
    "execution": {
     "iopub.execute_input": "2022-08-11T11:23:21.543594Z",
     "iopub.status.busy": "2022-08-11T11:23:21.542841Z",
     "iopub.status.idle": "2022-08-11T11:23:21.552646Z",
     "shell.execute_reply": "2022-08-11T11:23:21.551526Z",
     "shell.execute_reply.started": "2022-08-11T11:23:21.543558Z"
    }
   },
   "outputs": [],
   "source": [
    "df_meta.shape"
   ]
  },
  {
   "cell_type": "code",
   "execution_count": 60,
   "metadata": {
    "cellId": "bmsseqiq8spwgw9wpg8ytc",
    "execution": {
     "iopub.execute_input": "2022-08-11T11:06:54.541630Z",
     "iopub.status.busy": "2022-08-11T11:06:54.540831Z",
     "iopub.status.idle": "2022-08-11T11:06:54.550406Z",
     "shell.execute_reply": "2022-08-11T11:06:54.549330Z",
     "shell.execute_reply.started": "2022-08-11T11:06:54.541592Z"
    }
   },
   "outputs": [],
   "source": [
    "df.shape"
   ]
  },
  {
   "cell_type": "code",
   "execution_count": 61,
   "metadata": {
    "cellId": "5uo76gupmvn62itue40n26",
    "execution": {
     "iopub.execute_input": "2022-08-11T11:06:54.553059Z",
     "iopub.status.busy": "2022-08-11T11:06:54.552267Z",
     "iopub.status.idle": "2022-08-11T11:06:54.580209Z",
     "shell.execute_reply": "2022-08-11T11:06:54.579057Z",
     "shell.execute_reply.started": "2022-08-11T11:06:54.553023Z"
    }
   },
   "outputs": [],
   "source": [
    "df.head()"
   ]
  }
 ],
 "metadata": {
  "kernelspec": {
   "display_name": "Python 3.9.12 ('base')",
   "language": "python",
   "name": "python3"
  },
  "language_info": {
   "codemirror_mode": {
    "name": "ipython",
    "version": 3
   },
   "file_extension": ".py",
   "mimetype": "text/x-python",
   "name": "python",
   "nbconvert_exporter": "python",
   "pygments_lexer": "ipython3",
   "version": "3.9.12"
  },
  "vscode": {
   "interpreter": {
    "hash": "f86c6c67a6cc42451259545077f64e5c012c7a51784da4ec88146a48529be2e7"
   }
  }
 },
 "nbformat": 4,
 "nbformat_minor": 4
}
