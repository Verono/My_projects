{
 "cells": [
  {
   "cell_type": "markdown",
   "id": "aaa408d2",
   "metadata": {
    "cellId": "f9bsqzsebcl5vat0bf3n",
    "execution_id": "0d4a69e8-e9e2-40fc-8e4a-55a5ef77c074"
   },
   "source": [
    "# Финальный проект Control"
   ]
  },
  {
   "cell_type": "markdown",
   "id": "aea2c533",
   "metadata": {
    "cellId": "l7he0ftrtsk8dbokp5sg5h",
    "execution_id": "4e492cc6-666f-4b7a-a16b-5b0361a5b537"
   },
   "source": [
    "### Загрузка данных"
   ]
  },
  {
   "cell_type": "code",
   "execution_count": 1,
   "id": "36db36ad",
   "metadata": {
    "cellId": "lyaxy5j5wofz9duhk089h",
    "execution": {
     "iopub.execute_input": "2022-08-11T10:59:21.640578Z",
     "iopub.status.busy": "2022-08-11T10:59:21.639776Z",
     "iopub.status.idle": "2022-08-11T10:59:37.323323Z",
     "shell.execute_reply": "2022-08-11T10:59:37.322360Z",
     "shell.execute_reply.started": "2022-08-11T10:59:21.640108Z"
    }
   },
   "outputs": [
    {
     "name": "stderr",
     "output_type": "stream",
     "text": [
      "ERROR: Could not install packages due to an OSError: [WinError 5] Отказано в доступе: 'C:\\\\Users\\\\Vera\\\\anaconda3\\\\Lib\\\\site-packages\\\\psycopg2\\\\_psycopg.cp39-win_amd64.pyd'\n",
      "Consider using the `--user` option or check the permissions.\n",
      "\n"
     ]
    },
    {
     "name": "stdout",
     "output_type": "stream",
     "text": [
      "Collecting psycopg2-binary\n",
      "Note: you may need to restart the kernel to use updated packages.\n",
      "  Using cached psycopg2_binary-2.9.3-cp39-cp39-win_amd64.whl (1.2 MB)\n",
      "Installing collected packages: psycopg2-binary\n"
     ]
    },
    {
     "data": {
      "text/html": [
       "<div>\n",
       "<style scoped>\n",
       "    .dataframe tbody tr th:only-of-type {\n",
       "        vertical-align: middle;\n",
       "    }\n",
       "\n",
       "    .dataframe tbody tr th {\n",
       "        vertical-align: top;\n",
       "    }\n",
       "\n",
       "    .dataframe thead th {\n",
       "        text-align: right;\n",
       "    }\n",
       "</style>\n",
       "<table border=\"1\" class=\"dataframe\">\n",
       "  <thead>\n",
       "    <tr style=\"text-align: right;\">\n",
       "      <th></th>\n",
       "      <th>user_id</th>\n",
       "      <th>gender</th>\n",
       "      <th>age</th>\n",
       "      <th>country</th>\n",
       "      <th>city</th>\n",
       "      <th>exp_group</th>\n",
       "      <th>os</th>\n",
       "      <th>source</th>\n",
       "    </tr>\n",
       "  </thead>\n",
       "  <tbody>\n",
       "    <tr>\n",
       "      <th>0</th>\n",
       "      <td>200</td>\n",
       "      <td>1</td>\n",
       "      <td>34</td>\n",
       "      <td>Russia</td>\n",
       "      <td>Degtyarsk</td>\n",
       "      <td>3</td>\n",
       "      <td>Android</td>\n",
       "      <td>ads</td>\n",
       "    </tr>\n",
       "    <tr>\n",
       "      <th>1</th>\n",
       "      <td>201</td>\n",
       "      <td>0</td>\n",
       "      <td>37</td>\n",
       "      <td>Russia</td>\n",
       "      <td>Abakan</td>\n",
       "      <td>0</td>\n",
       "      <td>Android</td>\n",
       "      <td>ads</td>\n",
       "    </tr>\n",
       "    <tr>\n",
       "      <th>2</th>\n",
       "      <td>202</td>\n",
       "      <td>1</td>\n",
       "      <td>17</td>\n",
       "      <td>Russia</td>\n",
       "      <td>Smolensk</td>\n",
       "      <td>4</td>\n",
       "      <td>Android</td>\n",
       "      <td>ads</td>\n",
       "    </tr>\n",
       "    <tr>\n",
       "      <th>3</th>\n",
       "      <td>203</td>\n",
       "      <td>0</td>\n",
       "      <td>18</td>\n",
       "      <td>Russia</td>\n",
       "      <td>Moscow</td>\n",
       "      <td>1</td>\n",
       "      <td>iOS</td>\n",
       "      <td>ads</td>\n",
       "    </tr>\n",
       "    <tr>\n",
       "      <th>4</th>\n",
       "      <td>204</td>\n",
       "      <td>0</td>\n",
       "      <td>36</td>\n",
       "      <td>Russia</td>\n",
       "      <td>Anzhero-Sudzhensk</td>\n",
       "      <td>3</td>\n",
       "      <td>Android</td>\n",
       "      <td>ads</td>\n",
       "    </tr>\n",
       "  </tbody>\n",
       "</table>\n",
       "</div>"
      ],
      "text/plain": [
       "   user_id  gender  age country               city  exp_group       os source\n",
       "0      200       1   34  Russia          Degtyarsk          3  Android    ads\n",
       "1      201       0   37  Russia             Abakan          0  Android    ads\n",
       "2      202       1   17  Russia           Smolensk          4  Android    ads\n",
       "3      203       0   18  Russia             Moscow          1      iOS    ads\n",
       "4      204       0   36  Russia  Anzhero-Sudzhensk          3  Android    ads"
      ]
     },
     "execution_count": 1,
     "metadata": {},
     "output_type": "execute_result"
    }
   ],
   "source": [
    "%pip install psycopg2-binary\n",
    "#%pip install sqlalchemy\n",
    "import psycopg2\n",
    "import pandas as pd\n",
    "\n",
    "df_user = pd.read_sql(\n",
    "    \"\"\"SELECT * FROM public.user_data\"\"\",\n",
    "    con=\"postgresql://robot-startml-ro:pheiph0hahj1Vaif@\"\n",
    "        \"postgres.lab.karpov.courses:6432/startml\"\n",
    ")\n",
    "\n",
    "df_user.head()"
   ]
  },
  {
   "cell_type": "code",
   "execution_count": 2,
   "id": "f1803f08",
   "metadata": {
    "cellId": "mn32t941ndrmeqpenhwil",
    "execution": {
     "iopub.execute_input": "2022-08-11T10:59:37.325537Z",
     "iopub.status.busy": "2022-08-11T10:59:37.325247Z",
     "iopub.status.idle": "2022-08-11T10:59:40.291543Z",
     "shell.execute_reply": "2022-08-11T10:59:40.290510Z",
     "shell.execute_reply.started": "2022-08-11T10:59:37.325511Z"
    }
   },
   "outputs": [
    {
     "data": {
      "text/html": [
       "<div>\n",
       "<style scoped>\n",
       "    .dataframe tbody tr th:only-of-type {\n",
       "        vertical-align: middle;\n",
       "    }\n",
       "\n",
       "    .dataframe tbody tr th {\n",
       "        vertical-align: top;\n",
       "    }\n",
       "\n",
       "    .dataframe thead th {\n",
       "        text-align: right;\n",
       "    }\n",
       "</style>\n",
       "<table border=\"1\" class=\"dataframe\">\n",
       "  <thead>\n",
       "    <tr style=\"text-align: right;\">\n",
       "      <th></th>\n",
       "      <th>post_id</th>\n",
       "      <th>text</th>\n",
       "      <th>topic</th>\n",
       "    </tr>\n",
       "  </thead>\n",
       "  <tbody>\n",
       "    <tr>\n",
       "      <th>0</th>\n",
       "      <td>1</td>\n",
       "      <td>UK economy facing major risks\\n\\nThe UK manufa...</td>\n",
       "      <td>business</td>\n",
       "    </tr>\n",
       "    <tr>\n",
       "      <th>1</th>\n",
       "      <td>2</td>\n",
       "      <td>Aids and climate top Davos agenda\\n\\nClimate c...</td>\n",
       "      <td>business</td>\n",
       "    </tr>\n",
       "    <tr>\n",
       "      <th>2</th>\n",
       "      <td>3</td>\n",
       "      <td>Asian quake hits European shares\\n\\nShares in ...</td>\n",
       "      <td>business</td>\n",
       "    </tr>\n",
       "    <tr>\n",
       "      <th>3</th>\n",
       "      <td>4</td>\n",
       "      <td>India power shares jump on debut\\n\\nShares in ...</td>\n",
       "      <td>business</td>\n",
       "    </tr>\n",
       "    <tr>\n",
       "      <th>4</th>\n",
       "      <td>5</td>\n",
       "      <td>Lacroix label bought by US firm\\n\\nLuxury good...</td>\n",
       "      <td>business</td>\n",
       "    </tr>\n",
       "  </tbody>\n",
       "</table>\n",
       "</div>"
      ],
      "text/plain": [
       "   post_id                                               text     topic\n",
       "0        1  UK economy facing major risks\\n\\nThe UK manufa...  business\n",
       "1        2  Aids and climate top Davos agenda\\n\\nClimate c...  business\n",
       "2        3  Asian quake hits European shares\\n\\nShares in ...  business\n",
       "3        4  India power shares jump on debut\\n\\nShares in ...  business\n",
       "4        5  Lacroix label bought by US firm\\n\\nLuxury good...  business"
      ]
     },
     "execution_count": 2,
     "metadata": {},
     "output_type": "execute_result"
    }
   ],
   "source": [
    "df_post = pd.read_sql(\n",
    "    \"\"\"SELECT * FROM public.post_text_df\"\"\",\n",
    "    con=\"postgresql://robot-startml-ro:pheiph0hahj1Vaif@\"\n",
    "        \"postgres.lab.karpov.courses:6432/startml\"\n",
    ")\n",
    "\n",
    "df_post.head()\n"
   ]
  },
  {
   "cell_type": "code",
   "execution_count": 3,
   "id": "37854b94",
   "metadata": {
    "cellId": "xzqv30ecm3qyep4oenm68",
    "execution": {
     "iopub.execute_input": "2022-08-11T10:59:40.310217Z",
     "iopub.status.busy": "2022-08-11T10:59:40.309539Z",
     "iopub.status.idle": "2022-08-11T10:59:59.460920Z",
     "shell.execute_reply": "2022-08-11T10:59:59.459996Z",
     "shell.execute_reply.started": "2022-08-11T10:59:40.310183Z"
    }
   },
   "outputs": [
    {
     "data": {
      "text/html": [
       "<div>\n",
       "<style scoped>\n",
       "    .dataframe tbody tr th:only-of-type {\n",
       "        vertical-align: middle;\n",
       "    }\n",
       "\n",
       "    .dataframe tbody tr th {\n",
       "        vertical-align: top;\n",
       "    }\n",
       "\n",
       "    .dataframe thead th {\n",
       "        text-align: right;\n",
       "    }\n",
       "</style>\n",
       "<table border=\"1\" class=\"dataframe\">\n",
       "  <thead>\n",
       "    <tr style=\"text-align: right;\">\n",
       "      <th></th>\n",
       "      <th>timestamp</th>\n",
       "      <th>user_id</th>\n",
       "      <th>post_id</th>\n",
       "      <th>action</th>\n",
       "      <th>target</th>\n",
       "    </tr>\n",
       "  </thead>\n",
       "  <tbody>\n",
       "    <tr>\n",
       "      <th>0</th>\n",
       "      <td>2021-12-27 19:09:02</td>\n",
       "      <td>121754</td>\n",
       "      <td>3002</td>\n",
       "      <td>view</td>\n",
       "      <td>0</td>\n",
       "    </tr>\n",
       "    <tr>\n",
       "      <th>1</th>\n",
       "      <td>2021-12-27 19:11:34</td>\n",
       "      <td>121754</td>\n",
       "      <td>4913</td>\n",
       "      <td>view</td>\n",
       "      <td>0</td>\n",
       "    </tr>\n",
       "    <tr>\n",
       "      <th>2</th>\n",
       "      <td>2021-12-27 19:14:21</td>\n",
       "      <td>121754</td>\n",
       "      <td>3969</td>\n",
       "      <td>view</td>\n",
       "      <td>0</td>\n",
       "    </tr>\n",
       "    <tr>\n",
       "      <th>3</th>\n",
       "      <td>2021-12-27 19:15:46</td>\n",
       "      <td>121754</td>\n",
       "      <td>6347</td>\n",
       "      <td>view</td>\n",
       "      <td>0</td>\n",
       "    </tr>\n",
       "    <tr>\n",
       "      <th>4</th>\n",
       "      <td>2021-12-27 19:17:04</td>\n",
       "      <td>121754</td>\n",
       "      <td>3177</td>\n",
       "      <td>view</td>\n",
       "      <td>0</td>\n",
       "    </tr>\n",
       "  </tbody>\n",
       "</table>\n",
       "</div>"
      ],
      "text/plain": [
       "            timestamp  user_id  post_id action  target\n",
       "0 2021-12-27 19:09:02   121754     3002   view       0\n",
       "1 2021-12-27 19:11:34   121754     4913   view       0\n",
       "2 2021-12-27 19:14:21   121754     3969   view       0\n",
       "3 2021-12-27 19:15:46   121754     6347   view       0\n",
       "4 2021-12-27 19:17:04   121754     3177   view       0"
      ]
     },
     "execution_count": 3,
     "metadata": {},
     "output_type": "execute_result"
    }
   ],
   "source": [
    "#Процент таргета 1 в изначальной БД\n",
    "#68686455/76892800=0.8932755082400433\n",
    "#Следовательно, если всего берем 100000 записей, то с таргетом 0 - 89000\n",
    "\n",
    "feed_data_1 = pd.read_sql(\n",
    "    \"\"\"SELECT * FROM public.feed_data WHERE action = 'view' and target=0 limit 2670000\"\"\",\n",
    "    con=\"postgresql://robot-startml-ro:pheiph0hahj1Vaif@\"\n",
    "        \"postgres.lab.karpov.courses:6432/startml\"\n",
    ")\n",
    "\n",
    "feed_data_1.head()"
   ]
  },
  {
   "cell_type": "code",
   "execution_count": 4,
   "id": "7998e2ed",
   "metadata": {
    "cellId": "hs4icmvvnrcrtr4s94xut",
    "execution": {
     "iopub.execute_input": "2022-08-11T10:59:59.462972Z",
     "iopub.status.busy": "2022-08-11T10:59:59.462287Z",
     "iopub.status.idle": "2022-08-11T11:00:03.579290Z",
     "shell.execute_reply": "2022-08-11T11:00:03.578320Z",
     "shell.execute_reply.started": "2022-08-11T10:59:59.462945Z"
    }
   },
   "outputs": [
    {
     "data": {
      "text/html": [
       "<div>\n",
       "<style scoped>\n",
       "    .dataframe tbody tr th:only-of-type {\n",
       "        vertical-align: middle;\n",
       "    }\n",
       "\n",
       "    .dataframe tbody tr th {\n",
       "        vertical-align: top;\n",
       "    }\n",
       "\n",
       "    .dataframe thead th {\n",
       "        text-align: right;\n",
       "    }\n",
       "</style>\n",
       "<table border=\"1\" class=\"dataframe\">\n",
       "  <thead>\n",
       "    <tr style=\"text-align: right;\">\n",
       "      <th></th>\n",
       "      <th>timestamp</th>\n",
       "      <th>user_id</th>\n",
       "      <th>post_id</th>\n",
       "      <th>action</th>\n",
       "      <th>target</th>\n",
       "    </tr>\n",
       "  </thead>\n",
       "  <tbody>\n",
       "    <tr>\n",
       "      <th>0</th>\n",
       "      <td>2021-10-10 12:19:25</td>\n",
       "      <td>162401</td>\n",
       "      <td>1871</td>\n",
       "      <td>view</td>\n",
       "      <td>1</td>\n",
       "    </tr>\n",
       "    <tr>\n",
       "      <th>1</th>\n",
       "      <td>2021-10-14 21:32:46</td>\n",
       "      <td>162401</td>\n",
       "      <td>305</td>\n",
       "      <td>view</td>\n",
       "      <td>1</td>\n",
       "    </tr>\n",
       "    <tr>\n",
       "      <th>2</th>\n",
       "      <td>2021-10-14 21:35:16</td>\n",
       "      <td>162401</td>\n",
       "      <td>3812</td>\n",
       "      <td>view</td>\n",
       "      <td>1</td>\n",
       "    </tr>\n",
       "    <tr>\n",
       "      <th>3</th>\n",
       "      <td>2021-10-14 22:08:32</td>\n",
       "      <td>162401</td>\n",
       "      <td>3577</td>\n",
       "      <td>view</td>\n",
       "      <td>1</td>\n",
       "    </tr>\n",
       "    <tr>\n",
       "      <th>4</th>\n",
       "      <td>2021-10-15 06:26:57</td>\n",
       "      <td>162401</td>\n",
       "      <td>2149</td>\n",
       "      <td>view</td>\n",
       "      <td>1</td>\n",
       "    </tr>\n",
       "  </tbody>\n",
       "</table>\n",
       "</div>"
      ],
      "text/plain": [
       "            timestamp  user_id  post_id action  target\n",
       "0 2021-10-10 12:19:25   162401     1871   view       1\n",
       "1 2021-10-14 21:32:46   162401      305   view       1\n",
       "2 2021-10-14 21:35:16   162401     3812   view       1\n",
       "3 2021-10-14 22:08:32   162401     3577   view       1\n",
       "4 2021-10-15 06:26:57   162401     2149   view       1"
      ]
     },
     "execution_count": 4,
     "metadata": {},
     "output_type": "execute_result"
    }
   ],
   "source": [
    "#Процент таргета 0 в изначальной БД\n",
    "#8206345/76892800=0.10672449175995671\n",
    "feed_data_2 = pd.read_sql(\n",
    "    \"\"\"SELECT * FROM public.feed_data WHERE action = 'view' and target=1 limit 330000\"\"\",\n",
    "    con=\"postgresql://robot-startml-ro:pheiph0hahj1Vaif@\"\n",
    "        \"postgres.lab.karpov.courses:6432/startml\"\n",
    ")\n",
    "\n",
    "feed_data_2.head()"
   ]
  },
  {
   "cell_type": "code",
   "execution_count": 5,
   "id": "36f0eb0b",
   "metadata": {
    "cellId": "obujifdif3p5afy0mbgwhf",
    "execution": {
     "iopub.execute_input": "2022-08-11T11:00:03.581255Z",
     "iopub.status.busy": "2022-08-11T11:00:03.580923Z",
     "iopub.status.idle": "2022-08-11T11:00:03.762672Z",
     "shell.execute_reply": "2022-08-11T11:00:03.761522Z",
     "shell.execute_reply.started": "2022-08-11T11:00:03.581228Z"
    }
   },
   "outputs": [
    {
     "data": {
      "text/html": [
       "<div>\n",
       "<style scoped>\n",
       "    .dataframe tbody tr th:only-of-type {\n",
       "        vertical-align: middle;\n",
       "    }\n",
       "\n",
       "    .dataframe tbody tr th {\n",
       "        vertical-align: top;\n",
       "    }\n",
       "\n",
       "    .dataframe thead th {\n",
       "        text-align: right;\n",
       "    }\n",
       "</style>\n",
       "<table border=\"1\" class=\"dataframe\">\n",
       "  <thead>\n",
       "    <tr style=\"text-align: right;\">\n",
       "      <th></th>\n",
       "      <th>timestamp</th>\n",
       "      <th>user_id</th>\n",
       "      <th>post_id</th>\n",
       "      <th>target</th>\n",
       "    </tr>\n",
       "  </thead>\n",
       "  <tbody>\n",
       "    <tr>\n",
       "      <th>0</th>\n",
       "      <td>2021-12-27 19:09:02</td>\n",
       "      <td>121754</td>\n",
       "      <td>3002</td>\n",
       "      <td>0</td>\n",
       "    </tr>\n",
       "    <tr>\n",
       "      <th>1</th>\n",
       "      <td>2021-12-27 19:11:34</td>\n",
       "      <td>121754</td>\n",
       "      <td>4913</td>\n",
       "      <td>0</td>\n",
       "    </tr>\n",
       "    <tr>\n",
       "      <th>2</th>\n",
       "      <td>2021-12-27 19:14:21</td>\n",
       "      <td>121754</td>\n",
       "      <td>3969</td>\n",
       "      <td>0</td>\n",
       "    </tr>\n",
       "    <tr>\n",
       "      <th>3</th>\n",
       "      <td>2021-12-27 19:15:46</td>\n",
       "      <td>121754</td>\n",
       "      <td>6347</td>\n",
       "      <td>0</td>\n",
       "    </tr>\n",
       "    <tr>\n",
       "      <th>4</th>\n",
       "      <td>2021-12-27 19:17:04</td>\n",
       "      <td>121754</td>\n",
       "      <td>3177</td>\n",
       "      <td>0</td>\n",
       "    </tr>\n",
       "  </tbody>\n",
       "</table>\n",
       "</div>"
      ],
      "text/plain": [
       "            timestamp  user_id  post_id  target\n",
       "0 2021-12-27 19:09:02   121754     3002       0\n",
       "1 2021-12-27 19:11:34   121754     4913       0\n",
       "2 2021-12-27 19:14:21   121754     3969       0\n",
       "3 2021-12-27 19:15:46   121754     6347       0\n",
       "4 2021-12-27 19:17:04   121754     3177       0"
      ]
     },
     "execution_count": 5,
     "metadata": {},
     "output_type": "execute_result"
    }
   ],
   "source": [
    "feed_data=pd.concat([feed_data_1, feed_data_2])\n",
    "feed_data=feed_data.drop([\"action\"],axis=1)\n",
    "feed_data.head()\n"
   ]
  },
  {
   "cell_type": "markdown",
   "id": "dfcea657",
   "metadata": {
    "cellId": "mc20dilu3mswfoa2mtzwk",
    "execution_id": "0d1199fe-232f-4924-851f-a8d426b0fa82"
   },
   "source": [
    "### TF-IDF"
   ]
  },
  {
   "cell_type": "code",
   "execution_count": 8,
   "id": "6ffbf904",
   "metadata": {
    "cellId": "mwndme6535bsolqgms7d1k",
    "execution": {
     "iopub.execute_input": "2022-08-11T11:00:03.764735Z",
     "iopub.status.busy": "2022-08-11T11:00:03.764347Z",
     "iopub.status.idle": "2022-08-11T11:00:03.768879Z",
     "shell.execute_reply": "2022-08-11T11:00:03.767942Z",
     "shell.execute_reply.started": "2022-08-11T11:00:03.764700Z"
    }
   },
   "outputs": [],
   "source": [
    "#%pip install nltk"
   ]
  },
  {
   "cell_type": "code",
   "execution_count": 6,
   "id": "71152d4e",
   "metadata": {
    "cellId": "n9kil72imx8hyxfi4wiwnu",
    "execution": {
     "iopub.execute_input": "2022-08-11T11:00:03.770983Z",
     "iopub.status.busy": "2022-08-11T11:00:03.770332Z",
     "iopub.status.idle": "2022-08-11T11:00:04.922372Z",
     "shell.execute_reply": "2022-08-11T11:00:04.921466Z",
     "shell.execute_reply.started": "2022-08-11T11:00:03.770939Z"
    }
   },
   "outputs": [
    {
     "name": "stderr",
     "output_type": "stream",
     "text": [
      "[nltk_data] Downloading package stopwords to\n",
      "[nltk_data]     C:\\Users\\Vera\\AppData\\Roaming\\nltk_data...\n",
      "[nltk_data]   Package stopwords is already up-to-date!\n",
      "[nltk_data] Downloading package wordnet to\n",
      "[nltk_data]     C:\\Users\\Vera\\AppData\\Roaming\\nltk_data...\n",
      "[nltk_data]   Package wordnet is already up-to-date!\n",
      "[nltk_data] Downloading package omw-1.4 to\n",
      "[nltk_data]     C:\\Users\\Vera\\AppData\\Roaming\\nltk_data...\n",
      "[nltk_data]   Package omw-1.4 is already up-to-date!\n"
     ]
    },
    {
     "data": {
      "text/plain": [
       "True"
      ]
     },
     "execution_count": 6,
     "metadata": {},
     "output_type": "execute_result"
    }
   ],
   "source": [
    "import numpy as np\n",
    "import re\n",
    "import nltk\n",
    "from sklearn.datasets import load_files\n",
    "nltk.download('stopwords')\n",
    "import pickle\n",
    "from nltk.corpus import stopwords\n",
    "\n",
    "nltk.download('wordnet')\n",
    "nltk.download('omw-1.4')"
   ]
  },
  {
   "cell_type": "code",
   "execution_count": 7,
   "id": "7823154b",
   "metadata": {
    "cellId": "d8h3ug0fqjpaq2qw27xfr",
    "execution": {
     "iopub.execute_input": "2022-08-11T11:00:04.926748Z",
     "iopub.status.busy": "2022-08-11T11:00:04.926443Z",
     "iopub.status.idle": "2022-08-11T11:00:14.928977Z",
     "shell.execute_reply": "2022-08-11T11:00:14.927851Z",
     "shell.execute_reply.started": "2022-08-11T11:00:04.926722Z"
    },
    "scrolled": true
   },
   "outputs": [
    {
     "name": "stderr",
     "output_type": "stream",
     "text": [
      "C:\\Users\\Vera\\anaconda3\\lib\\site-packages\\sklearn\\feature_extraction\\text.py:396: UserWarning: Your stop_words may be inconsistent with your preprocessing. Tokenizing the stop words generated tokens ['ha', 'le', 'wa'] not in stop_words.\n",
      "  warnings.warn(\n"
     ]
    },
    {
     "data": {
      "text/html": [
       "<div>\n",
       "<style scoped>\n",
       "    .dataframe tbody tr th:only-of-type {\n",
       "        vertical-align: middle;\n",
       "    }\n",
       "\n",
       "    .dataframe tbody tr th {\n",
       "        vertical-align: top;\n",
       "    }\n",
       "\n",
       "    .dataframe thead th {\n",
       "        text-align: right;\n",
       "    }\n",
       "</style>\n",
       "<table border=\"1\" class=\"dataframe\">\n",
       "  <thead>\n",
       "    <tr style=\"text-align: right;\">\n",
       "      <th></th>\n",
       "      <th>post_id</th>\n",
       "      <th>text</th>\n",
       "      <th>topic</th>\n",
       "      <th>tfidf_score</th>\n",
       "    </tr>\n",
       "  </thead>\n",
       "  <tbody>\n",
       "    <tr>\n",
       "      <th>0</th>\n",
       "      <td>1</td>\n",
       "      <td>UK economy facing major risks\\n\\nThe UK manufa...</td>\n",
       "      <td>business</td>\n",
       "      <td>8.872924</td>\n",
       "    </tr>\n",
       "    <tr>\n",
       "      <th>1</th>\n",
       "      <td>2</td>\n",
       "      <td>Aids and climate top Davos agenda\\n\\nClimate c...</td>\n",
       "      <td>business</td>\n",
       "      <td>10.590158</td>\n",
       "    </tr>\n",
       "    <tr>\n",
       "      <th>2</th>\n",
       "      <td>3</td>\n",
       "      <td>Asian quake hits European shares\\n\\nShares in ...</td>\n",
       "      <td>business</td>\n",
       "      <td>10.385080</td>\n",
       "    </tr>\n",
       "    <tr>\n",
       "      <th>3</th>\n",
       "      <td>4</td>\n",
       "      <td>India power shares jump on debut\\n\\nShares in ...</td>\n",
       "      <td>business</td>\n",
       "      <td>6.099789</td>\n",
       "    </tr>\n",
       "    <tr>\n",
       "      <th>4</th>\n",
       "      <td>5</td>\n",
       "      <td>Lacroix label bought by US firm\\n\\nLuxury good...</td>\n",
       "      <td>business</td>\n",
       "      <td>6.071898</td>\n",
       "    </tr>\n",
       "    <tr>\n",
       "      <th>...</th>\n",
       "      <td>...</td>\n",
       "      <td>...</td>\n",
       "      <td>...</td>\n",
       "      <td>...</td>\n",
       "    </tr>\n",
       "    <tr>\n",
       "      <th>7018</th>\n",
       "      <td>7315</td>\n",
       "      <td>OK, I would not normally watch a Farrelly brot...</td>\n",
       "      <td>movie</td>\n",
       "      <td>5.785776</td>\n",
       "    </tr>\n",
       "    <tr>\n",
       "      <th>7019</th>\n",
       "      <td>7316</td>\n",
       "      <td>I give this movie 2 stars purely because of it...</td>\n",
       "      <td>movie</td>\n",
       "      <td>6.268396</td>\n",
       "    </tr>\n",
       "    <tr>\n",
       "      <th>7020</th>\n",
       "      <td>7317</td>\n",
       "      <td>I cant believe this film was allowed to be mad...</td>\n",
       "      <td>movie</td>\n",
       "      <td>5.236081</td>\n",
       "    </tr>\n",
       "    <tr>\n",
       "      <th>7021</th>\n",
       "      <td>7318</td>\n",
       "      <td>The version I saw of this film was the Blockbu...</td>\n",
       "      <td>movie</td>\n",
       "      <td>6.442907</td>\n",
       "    </tr>\n",
       "    <tr>\n",
       "      <th>7022</th>\n",
       "      <td>7319</td>\n",
       "      <td>Piece of subtle art. Maybe a masterpiece. Doub...</td>\n",
       "      <td>movie</td>\n",
       "      <td>7.059245</td>\n",
       "    </tr>\n",
       "  </tbody>\n",
       "</table>\n",
       "<p>7023 rows × 4 columns</p>\n",
       "</div>"
      ],
      "text/plain": [
       "      post_id                                               text     topic  \\\n",
       "0           1  UK economy facing major risks\\n\\nThe UK manufa...  business   \n",
       "1           2  Aids and climate top Davos agenda\\n\\nClimate c...  business   \n",
       "2           3  Asian quake hits European shares\\n\\nShares in ...  business   \n",
       "3           4  India power shares jump on debut\\n\\nShares in ...  business   \n",
       "4           5  Lacroix label bought by US firm\\n\\nLuxury good...  business   \n",
       "...       ...                                                ...       ...   \n",
       "7018     7315  OK, I would not normally watch a Farrelly brot...     movie   \n",
       "7019     7316  I give this movie 2 stars purely because of it...     movie   \n",
       "7020     7317  I cant believe this film was allowed to be mad...     movie   \n",
       "7021     7318  The version I saw of this film was the Blockbu...     movie   \n",
       "7022     7319  Piece of subtle art. Maybe a masterpiece. Doub...     movie   \n",
       "\n",
       "      tfidf_score  \n",
       "0        8.872924  \n",
       "1       10.590158  \n",
       "2       10.385080  \n",
       "3        6.099789  \n",
       "4        6.071898  \n",
       "...           ...  \n",
       "7018     5.785776  \n",
       "7019     6.268396  \n",
       "7020     5.236081  \n",
       "7021     6.442907  \n",
       "7022     7.059245  \n",
       "\n",
       "[7023 rows x 4 columns]"
      ]
     },
     "execution_count": 7,
     "metadata": {},
     "output_type": "execute_result"
    }
   ],
   "source": [
    "from sklearn.feature_extraction.text import TfidfVectorizer\n",
    "\n",
    "import re\n",
    "import string\n",
    "\n",
    "from nltk.stem import WordNetLemmatizer \n",
    "\n",
    "wnl = WordNetLemmatizer()\n",
    "\n",
    "def preprocessing(line, token=wnl):\n",
    "    line = line.lower()\n",
    "    line = re.sub(r\"[{}]\".format(string.punctuation), \" \", line)\n",
    "    line = line.replace('\\n\\n', ' ').replace('\\n', ' ')\n",
    "    line = ' '.join([token.lemmatize(x) for x in line.split(' ')])\n",
    "    return line\n",
    "\n",
    "vectorizer_tfidf=TfidfVectorizer(max_df=0.9,min_df=0.003,stop_words='english',preprocessor=preprocessing)\n",
    "tfidf_matrix=vectorizer_tfidf.fit_transform(df_post['text'])\n",
    "\n",
    "df_post['tfidf_score']=pd.DataFrame(tfidf_matrix.todense()).sum(axis=1)\n",
    "df_post"
   ]
  },
  {
   "cell_type": "code",
   "execution_count": 8,
   "id": "7600e877",
   "metadata": {
    "cellId": "aphnhxpod5n6tjwxege0ot",
    "execution": {
     "iopub.execute_input": "2022-08-11T11:03:46.231852Z",
     "iopub.status.busy": "2022-08-11T11:03:46.230802Z",
     "iopub.status.idle": "2022-08-11T11:03:46.242391Z",
     "shell.execute_reply": "2022-08-11T11:03:46.241199Z",
     "shell.execute_reply.started": "2022-08-11T11:03:46.231794Z"
    }
   },
   "outputs": [],
   "source": [
    "df_meta=df_post"
   ]
  },
  {
   "cell_type": "code",
   "execution_count": 9,
   "id": "68bae4be",
   "metadata": {
    "cellId": "capshonk88nd8gjjj04z2a",
    "execution": {
     "iopub.execute_input": "2022-08-11T11:03:46.273388Z",
     "iopub.status.busy": "2022-08-11T11:03:46.272056Z",
     "iopub.status.idle": "2022-08-11T11:03:46.281404Z",
     "shell.execute_reply": "2022-08-11T11:03:46.280497Z",
     "shell.execute_reply.started": "2022-08-11T11:03:46.273338Z"
    }
   },
   "outputs": [],
   "source": [
    "#Для обучения df_meta_without_topic без 'topic', a в загрузку на сервер df_meta\n",
    "df_meta_without_text=df_meta.drop(['text'],axis=1)"
   ]
  },
  {
   "cell_type": "code",
   "execution_count": 10,
   "id": "1dc99937",
   "metadata": {
    "cellId": "zbwokk36hbh5xue2hf5bno",
    "execution": {
     "iopub.execute_input": "2022-08-11T11:03:46.283604Z",
     "iopub.status.busy": "2022-08-11T11:03:46.282814Z",
     "iopub.status.idle": "2022-08-11T11:03:46.308045Z",
     "shell.execute_reply": "2022-08-11T11:03:46.307121Z",
     "shell.execute_reply.started": "2022-08-11T11:03:46.283570Z"
    }
   },
   "outputs": [
    {
     "data": {
      "text/html": [
       "<div>\n",
       "<style scoped>\n",
       "    .dataframe tbody tr th:only-of-type {\n",
       "        vertical-align: middle;\n",
       "    }\n",
       "\n",
       "    .dataframe tbody tr th {\n",
       "        vertical-align: top;\n",
       "    }\n",
       "\n",
       "    .dataframe thead th {\n",
       "        text-align: right;\n",
       "    }\n",
       "</style>\n",
       "<table border=\"1\" class=\"dataframe\">\n",
       "  <thead>\n",
       "    <tr style=\"text-align: right;\">\n",
       "      <th></th>\n",
       "      <th>post_id</th>\n",
       "      <th>topic</th>\n",
       "      <th>tfidf_score</th>\n",
       "    </tr>\n",
       "  </thead>\n",
       "  <tbody>\n",
       "    <tr>\n",
       "      <th>0</th>\n",
       "      <td>1</td>\n",
       "      <td>business</td>\n",
       "      <td>8.872924</td>\n",
       "    </tr>\n",
       "    <tr>\n",
       "      <th>1</th>\n",
       "      <td>2</td>\n",
       "      <td>business</td>\n",
       "      <td>10.590158</td>\n",
       "    </tr>\n",
       "    <tr>\n",
       "      <th>2</th>\n",
       "      <td>3</td>\n",
       "      <td>business</td>\n",
       "      <td>10.385080</td>\n",
       "    </tr>\n",
       "    <tr>\n",
       "      <th>3</th>\n",
       "      <td>4</td>\n",
       "      <td>business</td>\n",
       "      <td>6.099789</td>\n",
       "    </tr>\n",
       "    <tr>\n",
       "      <th>4</th>\n",
       "      <td>5</td>\n",
       "      <td>business</td>\n",
       "      <td>6.071898</td>\n",
       "    </tr>\n",
       "  </tbody>\n",
       "</table>\n",
       "</div>"
      ],
      "text/plain": [
       "   post_id     topic  tfidf_score\n",
       "0        1  business     8.872924\n",
       "1        2  business    10.590158\n",
       "2        3  business    10.385080\n",
       "3        4  business     6.099789\n",
       "4        5  business     6.071898"
      ]
     },
     "execution_count": 10,
     "metadata": {},
     "output_type": "execute_result"
    }
   ],
   "source": [
    "df_meta_without_text.head()"
   ]
  },
  {
   "cell_type": "code",
   "execution_count": 11,
   "id": "d08a2e78",
   "metadata": {
    "cellId": "yj05w7zfn33qh5m6di234",
    "execution": {
     "iopub.execute_input": "2022-08-11T11:03:46.310338Z",
     "iopub.status.busy": "2022-08-11T11:03:46.309229Z",
     "iopub.status.idle": "2022-08-11T11:03:47.411253Z",
     "shell.execute_reply": "2022-08-11T11:03:47.410318Z",
     "shell.execute_reply.started": "2022-08-11T11:03:46.310305Z"
    }
   },
   "outputs": [
    {
     "data": {
      "text/html": [
       "<div>\n",
       "<style scoped>\n",
       "    .dataframe tbody tr th:only-of-type {\n",
       "        vertical-align: middle;\n",
       "    }\n",
       "\n",
       "    .dataframe tbody tr th {\n",
       "        vertical-align: top;\n",
       "    }\n",
       "\n",
       "    .dataframe thead th {\n",
       "        text-align: right;\n",
       "    }\n",
       "</style>\n",
       "<table border=\"1\" class=\"dataframe\">\n",
       "  <thead>\n",
       "    <tr style=\"text-align: right;\">\n",
       "      <th></th>\n",
       "      <th>timestamp</th>\n",
       "      <th>user_id</th>\n",
       "      <th>post_id</th>\n",
       "      <th>target</th>\n",
       "      <th>topic</th>\n",
       "      <th>tfidf_score</th>\n",
       "    </tr>\n",
       "  </thead>\n",
       "  <tbody>\n",
       "    <tr>\n",
       "      <th>0</th>\n",
       "      <td>2021-12-27 19:09:02</td>\n",
       "      <td>121754</td>\n",
       "      <td>3002</td>\n",
       "      <td>0</td>\n",
       "      <td>covid</td>\n",
       "      <td>2.828825</td>\n",
       "    </tr>\n",
       "    <tr>\n",
       "      <th>1</th>\n",
       "      <td>2021-12-27 19:11:34</td>\n",
       "      <td>121754</td>\n",
       "      <td>4913</td>\n",
       "      <td>0</td>\n",
       "      <td>movie</td>\n",
       "      <td>3.952801</td>\n",
       "    </tr>\n",
       "    <tr>\n",
       "      <th>2</th>\n",
       "      <td>2021-12-27 19:14:21</td>\n",
       "      <td>121754</td>\n",
       "      <td>3969</td>\n",
       "      <td>0</td>\n",
       "      <td>covid</td>\n",
       "      <td>2.716109</td>\n",
       "    </tr>\n",
       "    <tr>\n",
       "      <th>3</th>\n",
       "      <td>2021-12-27 19:15:46</td>\n",
       "      <td>121754</td>\n",
       "      <td>6347</td>\n",
       "      <td>0</td>\n",
       "      <td>movie</td>\n",
       "      <td>5.138108</td>\n",
       "    </tr>\n",
       "    <tr>\n",
       "      <th>4</th>\n",
       "      <td>2021-12-27 19:17:04</td>\n",
       "      <td>121754</td>\n",
       "      <td>3177</td>\n",
       "      <td>0</td>\n",
       "      <td>covid</td>\n",
       "      <td>3.077661</td>\n",
       "    </tr>\n",
       "  </tbody>\n",
       "</table>\n",
       "</div>"
      ],
      "text/plain": [
       "            timestamp  user_id  post_id  target  topic  tfidf_score\n",
       "0 2021-12-27 19:09:02   121754     3002       0  covid     2.828825\n",
       "1 2021-12-27 19:11:34   121754     4913       0  movie     3.952801\n",
       "2 2021-12-27 19:14:21   121754     3969       0  covid     2.716109\n",
       "3 2021-12-27 19:15:46   121754     6347       0  movie     5.138108\n",
       "4 2021-12-27 19:17:04   121754     3177       0  covid     3.077661"
      ]
     },
     "execution_count": 11,
     "metadata": {},
     "output_type": "execute_result"
    }
   ],
   "source": [
    "df = pd.merge(\n",
    "    feed_data,\n",
    "    df_meta_without_text,\n",
    "    on='post_id',\n",
    "    how='left'\n",
    ")\n",
    "df.head()"
   ]
  },
  {
   "cell_type": "code",
   "execution_count": 12,
   "id": "05ef4661",
   "metadata": {
    "execution": {
     "iopub.execute_input": "2022-08-11T11:03:47.413658Z",
     "iopub.status.busy": "2022-08-11T11:03:47.412574Z",
     "iopub.status.idle": "2022-08-11T11:03:51.467625Z",
     "shell.execute_reply": "2022-08-11T11:03:51.466519Z",
     "shell.execute_reply.started": "2022-08-11T11:03:47.413621Z"
    }
   },
   "outputs": [
    {
     "data": {
      "text/html": [
       "<div>\n",
       "<style scoped>\n",
       "    .dataframe tbody tr th:only-of-type {\n",
       "        vertical-align: middle;\n",
       "    }\n",
       "\n",
       "    .dataframe tbody tr th {\n",
       "        vertical-align: top;\n",
       "    }\n",
       "\n",
       "    .dataframe thead th {\n",
       "        text-align: right;\n",
       "    }\n",
       "</style>\n",
       "<table border=\"1\" class=\"dataframe\">\n",
       "  <thead>\n",
       "    <tr style=\"text-align: right;\">\n",
       "      <th></th>\n",
       "      <th></th>\n",
       "      <th>timestamp</th>\n",
       "      <th>target</th>\n",
       "      <th>topic</th>\n",
       "      <th>tfidf_score</th>\n",
       "      <th>gender</th>\n",
       "      <th>age</th>\n",
       "      <th>country</th>\n",
       "      <th>city</th>\n",
       "      <th>exp_group</th>\n",
       "      <th>os</th>\n",
       "      <th>source</th>\n",
       "    </tr>\n",
       "    <tr>\n",
       "      <th>user_id</th>\n",
       "      <th>post_id</th>\n",
       "      <th></th>\n",
       "      <th></th>\n",
       "      <th></th>\n",
       "      <th></th>\n",
       "      <th></th>\n",
       "      <th></th>\n",
       "      <th></th>\n",
       "      <th></th>\n",
       "      <th></th>\n",
       "      <th></th>\n",
       "      <th></th>\n",
       "    </tr>\n",
       "  </thead>\n",
       "  <tbody>\n",
       "    <tr>\n",
       "      <th rowspan=\"5\" valign=\"top\">121754</th>\n",
       "      <th>3002</th>\n",
       "      <td>2021-12-27 19:09:02</td>\n",
       "      <td>0</td>\n",
       "      <td>covid</td>\n",
       "      <td>2.828825</td>\n",
       "      <td>0</td>\n",
       "      <td>16</td>\n",
       "      <td>Kazakhstan</td>\n",
       "      <td>Qaraghandy</td>\n",
       "      <td>2</td>\n",
       "      <td>Android</td>\n",
       "      <td>organic</td>\n",
       "    </tr>\n",
       "    <tr>\n",
       "      <th>4913</th>\n",
       "      <td>2021-12-27 19:11:34</td>\n",
       "      <td>0</td>\n",
       "      <td>movie</td>\n",
       "      <td>3.952801</td>\n",
       "      <td>0</td>\n",
       "      <td>16</td>\n",
       "      <td>Kazakhstan</td>\n",
       "      <td>Qaraghandy</td>\n",
       "      <td>2</td>\n",
       "      <td>Android</td>\n",
       "      <td>organic</td>\n",
       "    </tr>\n",
       "    <tr>\n",
       "      <th>3969</th>\n",
       "      <td>2021-12-27 19:14:21</td>\n",
       "      <td>0</td>\n",
       "      <td>covid</td>\n",
       "      <td>2.716109</td>\n",
       "      <td>0</td>\n",
       "      <td>16</td>\n",
       "      <td>Kazakhstan</td>\n",
       "      <td>Qaraghandy</td>\n",
       "      <td>2</td>\n",
       "      <td>Android</td>\n",
       "      <td>organic</td>\n",
       "    </tr>\n",
       "    <tr>\n",
       "      <th>6347</th>\n",
       "      <td>2021-12-27 19:15:46</td>\n",
       "      <td>0</td>\n",
       "      <td>movie</td>\n",
       "      <td>5.138108</td>\n",
       "      <td>0</td>\n",
       "      <td>16</td>\n",
       "      <td>Kazakhstan</td>\n",
       "      <td>Qaraghandy</td>\n",
       "      <td>2</td>\n",
       "      <td>Android</td>\n",
       "      <td>organic</td>\n",
       "    </tr>\n",
       "    <tr>\n",
       "      <th>3177</th>\n",
       "      <td>2021-12-27 19:17:04</td>\n",
       "      <td>0</td>\n",
       "      <td>covid</td>\n",
       "      <td>3.077661</td>\n",
       "      <td>0</td>\n",
       "      <td>16</td>\n",
       "      <td>Kazakhstan</td>\n",
       "      <td>Qaraghandy</td>\n",
       "      <td>2</td>\n",
       "      <td>Android</td>\n",
       "      <td>organic</td>\n",
       "    </tr>\n",
       "  </tbody>\n",
       "</table>\n",
       "</div>"
      ],
      "text/plain": [
       "                          timestamp  target  topic  tfidf_score  gender  age  \\\n",
       "user_id post_id                                                                \n",
       "121754  3002    2021-12-27 19:09:02       0  covid     2.828825       0   16   \n",
       "        4913    2021-12-27 19:11:34       0  movie     3.952801       0   16   \n",
       "        3969    2021-12-27 19:14:21       0  covid     2.716109       0   16   \n",
       "        6347    2021-12-27 19:15:46       0  movie     5.138108       0   16   \n",
       "        3177    2021-12-27 19:17:04       0  covid     3.077661       0   16   \n",
       "\n",
       "                    country        city  exp_group       os   source  \n",
       "user_id post_id                                                       \n",
       "121754  3002     Kazakhstan  Qaraghandy          2  Android  organic  \n",
       "        4913     Kazakhstan  Qaraghandy          2  Android  organic  \n",
       "        3969     Kazakhstan  Qaraghandy          2  Android  organic  \n",
       "        6347     Kazakhstan  Qaraghandy          2  Android  organic  \n",
       "        3177     Kazakhstan  Qaraghandy          2  Android  organic  "
      ]
     },
     "execution_count": 12,
     "metadata": {},
     "output_type": "execute_result"
    }
   ],
   "source": [
    "df_new = pd.merge(\n",
    "    df,\n",
    "    df_user,\n",
    "    on='user_id',\n",
    "    how='left'\n",
    ")\n",
    "df_new = df_new.set_index(['user_id', 'post_id'])\n",
    "df_new.head()"
   ]
  },
  {
   "cell_type": "code",
   "execution_count": 13,
   "id": "34853b56",
   "metadata": {
    "execution": {
     "iopub.execute_input": "2022-08-11T11:03:51.469606Z",
     "iopub.status.busy": "2022-08-11T11:03:51.469224Z",
     "iopub.status.idle": "2022-08-11T11:04:13.678817Z",
     "shell.execute_reply": "2022-08-11T11:04:13.677711Z",
     "shell.execute_reply.started": "2022-08-11T11:03:51.469562Z"
    }
   },
   "outputs": [
    {
     "data": {
      "text/html": [
       "<div>\n",
       "<style scoped>\n",
       "    .dataframe tbody tr th:only-of-type {\n",
       "        vertical-align: middle;\n",
       "    }\n",
       "\n",
       "    .dataframe tbody tr th {\n",
       "        vertical-align: top;\n",
       "    }\n",
       "\n",
       "    .dataframe thead th {\n",
       "        text-align: right;\n",
       "    }\n",
       "</style>\n",
       "<table border=\"1\" class=\"dataframe\">\n",
       "  <thead>\n",
       "    <tr style=\"text-align: right;\">\n",
       "      <th></th>\n",
       "      <th></th>\n",
       "      <th>timestamp</th>\n",
       "      <th>target</th>\n",
       "      <th>topic</th>\n",
       "      <th>tfidf_score</th>\n",
       "      <th>gender</th>\n",
       "      <th>age</th>\n",
       "      <th>country</th>\n",
       "      <th>city</th>\n",
       "      <th>exp_group</th>\n",
       "      <th>os</th>\n",
       "      <th>source</th>\n",
       "      <th>hour</th>\n",
       "      <th>month</th>\n",
       "    </tr>\n",
       "    <tr>\n",
       "      <th>user_id</th>\n",
       "      <th>post_id</th>\n",
       "      <th></th>\n",
       "      <th></th>\n",
       "      <th></th>\n",
       "      <th></th>\n",
       "      <th></th>\n",
       "      <th></th>\n",
       "      <th></th>\n",
       "      <th></th>\n",
       "      <th></th>\n",
       "      <th></th>\n",
       "      <th></th>\n",
       "      <th></th>\n",
       "      <th></th>\n",
       "    </tr>\n",
       "  </thead>\n",
       "  <tbody>\n",
       "    <tr>\n",
       "      <th rowspan=\"5\" valign=\"top\">121754</th>\n",
       "      <th>3002</th>\n",
       "      <td>2021-12-27 19:09:02</td>\n",
       "      <td>0</td>\n",
       "      <td>covid</td>\n",
       "      <td>2.828825</td>\n",
       "      <td>0</td>\n",
       "      <td>16</td>\n",
       "      <td>Kazakhstan</td>\n",
       "      <td>Qaraghandy</td>\n",
       "      <td>2</td>\n",
       "      <td>Android</td>\n",
       "      <td>organic</td>\n",
       "      <td>19</td>\n",
       "      <td>12</td>\n",
       "    </tr>\n",
       "    <tr>\n",
       "      <th>4913</th>\n",
       "      <td>2021-12-27 19:11:34</td>\n",
       "      <td>0</td>\n",
       "      <td>movie</td>\n",
       "      <td>3.952801</td>\n",
       "      <td>0</td>\n",
       "      <td>16</td>\n",
       "      <td>Kazakhstan</td>\n",
       "      <td>Qaraghandy</td>\n",
       "      <td>2</td>\n",
       "      <td>Android</td>\n",
       "      <td>organic</td>\n",
       "      <td>19</td>\n",
       "      <td>12</td>\n",
       "    </tr>\n",
       "    <tr>\n",
       "      <th>3969</th>\n",
       "      <td>2021-12-27 19:14:21</td>\n",
       "      <td>0</td>\n",
       "      <td>covid</td>\n",
       "      <td>2.716109</td>\n",
       "      <td>0</td>\n",
       "      <td>16</td>\n",
       "      <td>Kazakhstan</td>\n",
       "      <td>Qaraghandy</td>\n",
       "      <td>2</td>\n",
       "      <td>Android</td>\n",
       "      <td>organic</td>\n",
       "      <td>19</td>\n",
       "      <td>12</td>\n",
       "    </tr>\n",
       "    <tr>\n",
       "      <th>6347</th>\n",
       "      <td>2021-12-27 19:15:46</td>\n",
       "      <td>0</td>\n",
       "      <td>movie</td>\n",
       "      <td>5.138108</td>\n",
       "      <td>0</td>\n",
       "      <td>16</td>\n",
       "      <td>Kazakhstan</td>\n",
       "      <td>Qaraghandy</td>\n",
       "      <td>2</td>\n",
       "      <td>Android</td>\n",
       "      <td>organic</td>\n",
       "      <td>19</td>\n",
       "      <td>12</td>\n",
       "    </tr>\n",
       "    <tr>\n",
       "      <th>3177</th>\n",
       "      <td>2021-12-27 19:17:04</td>\n",
       "      <td>0</td>\n",
       "      <td>covid</td>\n",
       "      <td>3.077661</td>\n",
       "      <td>0</td>\n",
       "      <td>16</td>\n",
       "      <td>Kazakhstan</td>\n",
       "      <td>Qaraghandy</td>\n",
       "      <td>2</td>\n",
       "      <td>Android</td>\n",
       "      <td>organic</td>\n",
       "      <td>19</td>\n",
       "      <td>12</td>\n",
       "    </tr>\n",
       "  </tbody>\n",
       "</table>\n",
       "</div>"
      ],
      "text/plain": [
       "                          timestamp  target  topic  tfidf_score  gender  age  \\\n",
       "user_id post_id                                                                \n",
       "121754  3002    2021-12-27 19:09:02       0  covid     2.828825       0   16   \n",
       "        4913    2021-12-27 19:11:34       0  movie     3.952801       0   16   \n",
       "        3969    2021-12-27 19:14:21       0  covid     2.716109       0   16   \n",
       "        6347    2021-12-27 19:15:46       0  movie     5.138108       0   16   \n",
       "        3177    2021-12-27 19:17:04       0  covid     3.077661       0   16   \n",
       "\n",
       "                    country        city  exp_group       os   source  hour  \\\n",
       "user_id post_id                                                              \n",
       "121754  3002     Kazakhstan  Qaraghandy          2  Android  organic    19   \n",
       "        4913     Kazakhstan  Qaraghandy          2  Android  organic    19   \n",
       "        3969     Kazakhstan  Qaraghandy          2  Android  organic    19   \n",
       "        6347     Kazakhstan  Qaraghandy          2  Android  organic    19   \n",
       "        3177     Kazakhstan  Qaraghandy          2  Android  organic    19   \n",
       "\n",
       "                 month  \n",
       "user_id post_id         \n",
       "121754  3002        12  \n",
       "        4913        12  \n",
       "        3969        12  \n",
       "        6347        12  \n",
       "        3177        12  "
      ]
     },
     "execution_count": 13,
     "metadata": {},
     "output_type": "execute_result"
    }
   ],
   "source": [
    "#Добавим еще признаки\n",
    "df_new['hour'] = pd.to_datetime(df_new['timestamp']).apply(lambda x: x.hour)\n",
    "df_new['month'] = pd.to_datetime(df_new['timestamp']).apply(lambda x: x.month)\n",
    "df_new.head()"
   ]
  },
  {
   "cell_type": "code",
   "execution_count": 15,
   "id": "6d75e01e",
   "metadata": {
    "execution": {
     "iopub.execute_input": "2022-08-11T11:04:18.605420Z",
     "iopub.status.busy": "2022-08-11T11:04:18.605062Z",
     "iopub.status.idle": "2022-08-11T11:04:27.347275Z",
     "shell.execute_reply": "2022-08-11T11:04:27.346296Z",
     "shell.execute_reply.started": "2022-08-11T11:04:18.605386Z"
    }
   },
   "outputs": [
    {
     "data": {
      "text/plain": [
       "(Timestamp('2021-12-29 23:43:15'), Timestamp('2021-10-01 06:01:40'))"
      ]
     },
     "execution_count": 15,
     "metadata": {},
     "output_type": "execute_result"
    }
   ],
   "source": [
    "max(df_new.timestamp), min(df_new.timestamp)"
   ]
  },
  {
   "cell_type": "code",
   "execution_count": 16,
   "id": "91b50c7c",
   "metadata": {
    "cellId": "z8ntxn4w719f9cu3fkwmg",
    "execution": {
     "iopub.execute_input": "2022-08-11T11:04:27.349284Z",
     "iopub.status.busy": "2022-08-11T11:04:27.348752Z",
     "iopub.status.idle": "2022-08-11T11:04:29.950327Z",
     "shell.execute_reply": "2022-08-11T11:04:29.949433Z",
     "shell.execute_reply.started": "2022-08-11T11:04:27.349246Z"
    }
   },
   "outputs": [
    {
     "data": {
      "text/plain": [
       "((2506377,), (493623,))"
      ]
     },
     "execution_count": 16,
     "metadata": {},
     "output_type": "execute_result"
    }
   ],
   "source": [
    "### За отсечку возьмем 2021-12-15\n",
    "\n",
    "df_train = df_new[df_new.timestamp < '2021-12-15']\n",
    "df_test = df_new[df_new.timestamp >= '2021-12-15']\n",
    "\n",
    "df_train = df_train.drop('timestamp', axis=1)\n",
    "df_test = df_test.drop('timestamp', axis=1)\n",
    "\n",
    "X_train = df_train.drop('target', axis=1)\n",
    "X_test = df_test.drop('target', axis=1)\n",
    "\n",
    "y_train = df_train['target']\n",
    "y_test = df_test['target']\n",
    "\n",
    "y_train.shape, y_test.shape"
   ]
  },
  {
   "cell_type": "markdown",
   "id": "a9da7a44",
   "metadata": {
    "cellId": "e0wnendmh07s9p5mei4yr",
    "execution_id": "c40bf39d-8109-41d9-aba5-0561c6ffee04"
   },
   "source": [
    "## Catboost"
   ]
  },
  {
   "cell_type": "code",
   "execution_count": 47,
   "id": "4ba6de3f",
   "metadata": {
    "cellId": "wjp4yosf0nv4vom5v20xn",
    "execution": {
     "iopub.execute_input": "2022-08-11T11:04:29.952321Z",
     "iopub.status.busy": "2022-08-11T11:04:29.951952Z",
     "iopub.status.idle": "2022-08-11T11:04:29.956682Z",
     "shell.execute_reply": "2022-08-11T11:04:29.955510Z",
     "shell.execute_reply.started": "2022-08-11T11:04:29.952285Z"
    }
   },
   "outputs": [],
   "source": [
    "#%pip install catboost"
   ]
  },
  {
   "cell_type": "code",
   "execution_count": 18,
   "id": "d8fc4834",
   "metadata": {
    "cellId": "te98e7d74helt1sjck17o",
    "execution": {
     "iopub.execute_input": "2022-08-11T11:07:53.164933Z",
     "iopub.status.busy": "2022-08-11T11:07:53.164558Z",
     "iopub.status.idle": "2022-08-11T11:10:13.962055Z",
     "shell.execute_reply": "2022-08-11T11:10:13.960995Z",
     "shell.execute_reply.started": "2022-08-11T11:07:53.164897Z"
    }
   },
   "outputs": [
    {
     "name": "stdout",
     "output_type": "stream",
     "text": [
      "0:\tlearn: 0.3555261\ttotal: 1.09s\tremaining: 1m 48s\n",
      "1:\tlearn: 0.3080176\ttotal: 1.89s\tremaining: 1m 32s\n",
      "2:\tlearn: 0.2992922\ttotal: 2.59s\tremaining: 1m 23s\n",
      "3:\tlearn: 0.2987690\ttotal: 3.09s\tremaining: 1m 14s\n",
      "4:\tlearn: 0.2977576\ttotal: 3.76s\tremaining: 1m 11s\n",
      "5:\tlearn: 0.2972661\ttotal: 4.42s\tremaining: 1m 9s\n",
      "6:\tlearn: 0.2971682\ttotal: 4.9s\tremaining: 1m 5s\n",
      "7:\tlearn: 0.2970606\ttotal: 5.36s\tremaining: 1m 1s\n",
      "8:\tlearn: 0.2968730\ttotal: 5.94s\tremaining: 1m\n",
      "9:\tlearn: 0.2966400\ttotal: 6.47s\tremaining: 58.2s\n",
      "10:\tlearn: 0.2965269\ttotal: 6.86s\tremaining: 55.5s\n",
      "11:\tlearn: 0.2963454\ttotal: 7.29s\tremaining: 53.5s\n",
      "12:\tlearn: 0.2963130\ttotal: 7.83s\tremaining: 52.4s\n",
      "13:\tlearn: 0.2961538\ttotal: 8.37s\tremaining: 51.4s\n",
      "14:\tlearn: 0.2951418\ttotal: 8.74s\tremaining: 49.5s\n",
      "15:\tlearn: 0.2949863\ttotal: 9.1s\tremaining: 47.8s\n",
      "16:\tlearn: 0.2949666\ttotal: 9.53s\tremaining: 46.5s\n",
      "17:\tlearn: 0.2948728\ttotal: 9.97s\tremaining: 45.4s\n",
      "18:\tlearn: 0.2947535\ttotal: 10.4s\tremaining: 44.4s\n",
      "19:\tlearn: 0.2946920\ttotal: 10.9s\tremaining: 43.4s\n",
      "20:\tlearn: 0.2946472\ttotal: 11.3s\tremaining: 42.5s\n",
      "21:\tlearn: 0.2945043\ttotal: 11.8s\tremaining: 41.8s\n",
      "22:\tlearn: 0.2944719\ttotal: 12.2s\tremaining: 40.9s\n",
      "23:\tlearn: 0.2944015\ttotal: 12.6s\tremaining: 39.9s\n",
      "24:\tlearn: 0.2943342\ttotal: 13s\tremaining: 38.9s\n",
      "25:\tlearn: 0.2936029\ttotal: 13.4s\tremaining: 38s\n",
      "26:\tlearn: 0.2935289\ttotal: 13.8s\tremaining: 37.3s\n",
      "27:\tlearn: 0.2934608\ttotal: 14.2s\tremaining: 36.5s\n",
      "28:\tlearn: 0.2931727\ttotal: 14.5s\tremaining: 35.6s\n",
      "29:\tlearn: 0.2928210\ttotal: 14.9s\tremaining: 34.9s\n",
      "30:\tlearn: 0.2927234\ttotal: 15.4s\tremaining: 34.3s\n",
      "31:\tlearn: 0.2926179\ttotal: 15.8s\tremaining: 33.5s\n",
      "32:\tlearn: 0.2926091\ttotal: 16.1s\tremaining: 32.7s\n",
      "33:\tlearn: 0.2925946\ttotal: 16.5s\tremaining: 32s\n",
      "34:\tlearn: 0.2925536\ttotal: 16.8s\tremaining: 31.3s\n",
      "35:\tlearn: 0.2924148\ttotal: 17.2s\tremaining: 30.6s\n",
      "36:\tlearn: 0.2923561\ttotal: 17.6s\tremaining: 30s\n",
      "37:\tlearn: 0.2923215\ttotal: 18s\tremaining: 29.4s\n",
      "38:\tlearn: 0.2923103\ttotal: 18.4s\tremaining: 28.8s\n",
      "39:\tlearn: 0.2922512\ttotal: 18.8s\tremaining: 28.3s\n",
      "40:\tlearn: 0.2921462\ttotal: 19.2s\tremaining: 27.7s\n",
      "41:\tlearn: 0.2920600\ttotal: 19.6s\tremaining: 27s\n",
      "42:\tlearn: 0.2919873\ttotal: 19.9s\tremaining: 26.4s\n",
      "43:\tlearn: 0.2919852\ttotal: 20.3s\tremaining: 25.9s\n",
      "44:\tlearn: 0.2919677\ttotal: 20.7s\tremaining: 25.3s\n",
      "45:\tlearn: 0.2918747\ttotal: 21s\tremaining: 24.7s\n",
      "46:\tlearn: 0.2918132\ttotal: 21.3s\tremaining: 24.1s\n",
      "47:\tlearn: 0.2917583\ttotal: 21.7s\tremaining: 23.5s\n",
      "48:\tlearn: 0.2915028\ttotal: 22.1s\tremaining: 23s\n",
      "49:\tlearn: 0.2914881\ttotal: 22.4s\tremaining: 22.4s\n",
      "50:\tlearn: 0.2914110\ttotal: 22.7s\tremaining: 21.9s\n",
      "51:\tlearn: 0.2913852\ttotal: 23.1s\tremaining: 21.3s\n",
      "52:\tlearn: 0.2913484\ttotal: 23.4s\tremaining: 20.7s\n",
      "53:\tlearn: 0.2912888\ttotal: 23.7s\tremaining: 20.2s\n",
      "54:\tlearn: 0.2912647\ttotal: 24s\tremaining: 19.7s\n",
      "55:\tlearn: 0.2912178\ttotal: 24.3s\tremaining: 19.1s\n",
      "56:\tlearn: 0.2911998\ttotal: 24.7s\tremaining: 18.6s\n",
      "57:\tlearn: 0.2913113\ttotal: 25.1s\tremaining: 18.2s\n",
      "58:\tlearn: 0.2912443\ttotal: 25.4s\tremaining: 17.7s\n",
      "59:\tlearn: 0.2912168\ttotal: 25.8s\tremaining: 17.2s\n",
      "60:\tlearn: 0.2911891\ttotal: 26.1s\tremaining: 16.7s\n",
      "61:\tlearn: 0.2911589\ttotal: 26.5s\tremaining: 16.2s\n",
      "62:\tlearn: 0.2911576\ttotal: 26.8s\tremaining: 15.7s\n",
      "63:\tlearn: 0.2911409\ttotal: 27.1s\tremaining: 15.3s\n",
      "64:\tlearn: 0.2910198\ttotal: 27.5s\tremaining: 14.8s\n",
      "65:\tlearn: 0.2909883\ttotal: 27.8s\tremaining: 14.3s\n",
      "66:\tlearn: 0.2909585\ttotal: 28.1s\tremaining: 13.8s\n",
      "67:\tlearn: 0.2909374\ttotal: 28.4s\tremaining: 13.4s\n",
      "68:\tlearn: 0.2908588\ttotal: 28.8s\tremaining: 12.9s\n",
      "69:\tlearn: 0.2908531\ttotal: 29.1s\tremaining: 12.5s\n",
      "70:\tlearn: 0.2908434\ttotal: 29.4s\tremaining: 12s\n",
      "71:\tlearn: 0.2907928\ttotal: 29.7s\tremaining: 11.6s\n",
      "72:\tlearn: 0.2907642\ttotal: 30s\tremaining: 11.1s\n",
      "73:\tlearn: 0.2907397\ttotal: 30.4s\tremaining: 10.7s\n",
      "74:\tlearn: 0.2907318\ttotal: 30.7s\tremaining: 10.2s\n",
      "75:\tlearn: 0.2941498\ttotal: 31.1s\tremaining: 9.83s\n",
      "76:\tlearn: 0.2925888\ttotal: 31.5s\tremaining: 9.4s\n",
      "77:\tlearn: 0.2924286\ttotal: 31.8s\tremaining: 8.98s\n",
      "78:\tlearn: 0.2940411\ttotal: 32.2s\tremaining: 8.55s\n",
      "79:\tlearn: 0.3784671\ttotal: 32.5s\tremaining: 8.13s\n",
      "80:\tlearn: 0.3477821\ttotal: 32.9s\tremaining: 7.71s\n",
      "81:\tlearn: 0.3039529\ttotal: 33.2s\tremaining: 7.28s\n",
      "82:\tlearn: 0.3563549\ttotal: 33.5s\tremaining: 6.86s\n",
      "83:\tlearn: 0.3576839\ttotal: 33.8s\tremaining: 6.44s\n",
      "84:\tlearn: 0.3138632\ttotal: 34.1s\tremaining: 6.02s\n",
      "85:\tlearn: 0.3342500\ttotal: 34.5s\tremaining: 5.61s\n",
      "86:\tlearn: 0.3297646\ttotal: 34.8s\tremaining: 5.2s\n",
      "87:\tlearn: 0.3699456\ttotal: 35.1s\tremaining: 4.79s\n",
      "88:\tlearn: 0.3691205\ttotal: 35.4s\tremaining: 4.38s\n",
      "89:\tlearn: 0.3263749\ttotal: 35.8s\tremaining: 3.97s\n",
      "90:\tlearn: 0.3105679\ttotal: 36.1s\tremaining: 3.57s\n",
      "91:\tlearn: 0.3070721\ttotal: 36.4s\tremaining: 3.17s\n",
      "92:\tlearn: 0.3621279\ttotal: 36.7s\tremaining: 2.77s\n",
      "93:\tlearn: 0.3170812\ttotal: 37.1s\tremaining: 2.37s\n",
      "94:\tlearn: 0.3313662\ttotal: 37.5s\tremaining: 1.97s\n",
      "95:\tlearn: 0.3278878\ttotal: 37.9s\tremaining: 1.58s\n",
      "96:\tlearn: 0.3172130\ttotal: 38.2s\tremaining: 1.18s\n",
      "97:\tlearn: 0.3170069\ttotal: 38.6s\tremaining: 787ms\n",
      "98:\tlearn: 0.3195965\ttotal: 38.9s\tremaining: 393ms\n",
      "99:\tlearn: 0.3173647\ttotal: 39.2s\tremaining: 0us\n"
     ]
    },
    {
     "data": {
      "text/plain": [
       "<catboost.core.CatBoostClassifier at 0x22a5464af40>"
      ]
     },
     "execution_count": 18,
     "metadata": {},
     "output_type": "execute_result"
    }
   ],
   "source": [
    "categorical_columns = [\n",
    "    'topic', 'gender', 'country',\n",
    "    'city', 'exp_group',\n",
    "    'os', 'source','hour', 'month'\n",
    "]#,'hour', 'month'\n",
    "\n",
    "from catboost import CatBoostClassifier\n",
    "\n",
    "catboost_model = CatBoostClassifier(iterations=100,\n",
    "                              learning_rate=1,\n",
    "                              depth=2)\n",
    "\n",
    "\n",
    "catboost_model.fit(X_train, y_train,\n",
    "                   categorical_columns    \n",
    "             )"
   ]
  },
  {
   "cell_type": "code",
   "execution_count": 19,
   "id": "7ac4a947",
   "metadata": {
    "cellId": "5z6lshrea1nspv465l1mxa",
    "execution": {
     "iopub.execute_input": "2022-08-11T11:23:01.695034Z",
     "iopub.status.busy": "2022-08-11T11:23:01.694245Z",
     "iopub.status.idle": "2022-08-11T11:23:01.709253Z",
     "shell.execute_reply": "2022-08-11T11:23:01.708240Z",
     "shell.execute_reply.started": "2022-08-11T11:23:01.694987Z"
    }
   },
   "outputs": [],
   "source": [
    "catboost_model.save_model('catboost_model_with_TDF+hour_month.cbm',\n",
    "                           format=\"cbm\")"
   ]
  },
  {
   "cell_type": "code",
   "execution_count": 20,
   "id": "918bfb89",
   "metadata": {
    "cellId": "ntwhkezmgc2uu182rdrrb",
    "execution": {
     "iopub.execute_input": "2022-08-11T11:22:54.286977Z",
     "iopub.status.busy": "2022-08-11T11:22:54.286275Z",
     "iopub.status.idle": "2022-08-11T11:23:01.692243Z",
     "shell.execute_reply": "2022-08-11T11:23:01.691003Z",
     "shell.execute_reply.started": "2022-08-11T11:22:54.286940Z"
    }
   },
   "outputs": [
    {
     "name": "stdout",
     "output_type": "stream",
     "text": [
      "Качество на трейне: 0.7429682671244975\n",
      "Качество на тесте: 0.7291133139721039\n"
     ]
    }
   ],
   "source": [
    "### Замерим качество работы такой модели\n",
    "### Возьмем ROC-AUC\n",
    "from sklearn.metrics import roc_auc_score\n",
    "\n",
    "print(f\"Качество на трейне: {roc_auc_score(y_train, catboost_model.predict_proba(X_train)[:, 1])}\")\n",
    "print(f\"Качество на тесте: {roc_auc_score(y_test, catboost_model.predict_proba(X_test)[:, 1])}\")"
   ]
  },
  {
   "cell_type": "code",
   "execution_count": 21,
   "id": "90fc2f0c",
   "metadata": {
    "cellId": "0uo338w54qc8j1bhw51f1u",
    "execution": {
     "iopub.execute_input": "2022-08-11T11:23:04.798529Z",
     "iopub.status.busy": "2022-08-11T11:23:04.798037Z",
     "iopub.status.idle": "2022-08-11T11:23:05.367230Z",
     "shell.execute_reply": "2022-08-11T11:23:05.366291Z",
     "shell.execute_reply.started": "2022-08-11T11:23:04.798428Z"
    }
   },
   "outputs": [
    {
     "data": {
      "image/png": "[encoded data removed]",
      "text/plain": [
       "<Figure size 1440x1152 with 1 Axes>"
      ]
     },
     "metadata": {
      "needs_background": "light"
     },
     "output_type": "display_data"
    }
   ],
   "source": [
    "\n",
    "import seaborn as sns\n",
    "import numpy as np\n",
    "import matplotlib.pyplot as plt\n",
    "\n",
    "def plot_feature_importance(importance,names,model_type):\n",
    "    \n",
    "    #Create arrays from feature importance and feature names\n",
    "    feature_importance = np.array(importance)\n",
    "    feature_names = np.array(names)\n",
    "    \n",
    "    #Create a DataFrame using a Dictionary\n",
    "    data={'feature_names':feature_names,'feature_importance':feature_importance}\n",
    "    fi_df = pd.DataFrame(data)\n",
    "    \n",
    "    #Sort the DataFrame in order decreasing feature importance\n",
    "    fi_df.sort_values(by=['feature_importance'], ascending=False,inplace=True)\n",
    "    \n",
    "    #Define size of bar plot\n",
    "    plt.figure(figsize=(20,16))\n",
    "    #Plot Searborn bar chart\n",
    "    sns.barplot(x=fi_df['feature_importance'], y=fi_df['feature_names'])\n",
    "    #Add chart labels\n",
    "    plt.title(model_type + 'FEATURE IMPORTANCE')\n",
    "    plt.xlabel('FEATURE IMPORTANCE')\n",
    "    plt.ylabel('FEATURE NAMES')\n",
    "    \n",
    "plot_feature_importance(catboost_model.feature_importances_,X_train.columns,'Catboost')"
   ]
  },
  {
   "cell_type": "markdown",
   "id": "eba0026d",
   "metadata": {},
   "source": [
    "### Сохраняем полученные фичи в БД"
   ]
  },
  {
   "cell_type": "code",
   "execution_count": 22,
   "id": "2b21eefc",
   "metadata": {
    "cellId": "ojc65gqe3x1rbymprbdgp",
    "execution": {
     "iopub.execute_input": "2022-08-11T11:23:13.923505Z",
     "iopub.status.busy": "2022-08-11T11:23:13.923103Z",
     "iopub.status.idle": "2022-08-11T11:23:21.530942Z",
     "shell.execute_reply": "2022-08-11T11:23:21.529870Z",
     "shell.execute_reply.started": "2022-08-11T11:23:13.923444Z"
    }
   },
   "outputs": [
    {
     "data": {
      "text/plain": [
       "23"
      ]
     },
     "execution_count": 22,
     "metadata": {},
     "output_type": "execute_result"
    }
   ],
   "source": [
    "import psycopg2\n",
    "from sqlalchemy import create_engine\n",
    "\n",
    "# Подключаемся к базе данных PGSQL\n",
    "engine = create_engine(\"postgresql://robot-startml-ro:pheiph0hahj1Vaif@\"\"postgres.lab.karpov.courses:6432/startml\")\n",
    "\n",
    "# Пишем в PGSQL\n",
    "df_meta.to_sql('meta_control', con=engine, if_exists='replace')\n"
   ]
  }
 ],
 "metadata": {
  "kernelspec": {
   "display_name": "Python 3.9.12 ('base')",
   "language": "python",
   "name": "python3"
  },
  "language_info": {
   "codemirror_mode": {
    "name": "ipython",
    "version": 3
   },
   "file_extension": ".py",
   "mimetype": "text/x-python",
   "name": "python",
   "nbconvert_exporter": "python",
   "pygments_lexer": "ipython3",
   "version": "3.9.12"
  },
  "vscode": {
   "interpreter": {
    "hash": "f86c6c67a6cc42451259545077f64e5c012c7a51784da4ec88146a48529be2e7"
   }
  }
 },
 "nbformat": 4,
 "nbformat_minor": 5
}
